{
 "cells": [
  {
   "cell_type": "markdown",
   "metadata": {},
   "source": [
    "## Import modules"
   ]
  },
  {
   "cell_type": "code",
   "execution_count": 1,
   "metadata": {},
   "outputs": [],
   "source": [
    "import numpy as np\n",
    "import pandas as pd\n",
    "import matplotlib.pyplot as plt\n",
    "from sklearn.svm import SVC\n",
    "from sklearn.metrics import accuracy_score, f1_score\n",
    "from sklearn.model_selection import GridSearchCV\n",
    "from sklearn.tree import DecisionTreeClassifier\n",
    "from sklearn.ensemble import BaggingClassifier\n",
    "from sklearn.ensemble import RandomForestClassifier\n",
    "from sklearn.ensemble import AdaBoostClassifier\n",
    "import lightgbm as lgb"
   ]
  },
  {
   "cell_type": "markdown",
   "metadata": {},
   "source": [
    "## Read data, set x_train and y_train"
   ]
  },
  {
   "cell_type": "code",
   "execution_count": 2,
   "metadata": {},
   "outputs": [
    {
     "data": {
      "text/html": [
       "<div>\n",
       "<style scoped>\n",
       "    .dataframe tbody tr th:only-of-type {\n",
       "        vertical-align: middle;\n",
       "    }\n",
       "\n",
       "    .dataframe tbody tr th {\n",
       "        vertical-align: top;\n",
       "    }\n",
       "\n",
       "    .dataframe thead th {\n",
       "        text-align: right;\n",
       "    }\n",
       "</style>\n",
       "<table border=\"1\" class=\"dataframe\">\n",
       "  <thead>\n",
       "    <tr style=\"text-align: right;\">\n",
       "      <th></th>\n",
       "      <th>ID_Patient_Care_Situation</th>\n",
       "      <th>Diagnosed_Condition</th>\n",
       "      <th>Patient_ID</th>\n",
       "      <th>Treated_with_drugs</th>\n",
       "      <th>Patient_Age</th>\n",
       "      <th>Patient_Body_Mass_Index</th>\n",
       "      <th>Patient_Smoker</th>\n",
       "      <th>Patient_Rural_Urban</th>\n",
       "      <th>Patient_mental_condition</th>\n",
       "      <th>A</th>\n",
       "      <th>B</th>\n",
       "      <th>C</th>\n",
       "      <th>D</th>\n",
       "      <th>E</th>\n",
       "      <th>F</th>\n",
       "      <th>Z</th>\n",
       "      <th>Number_of_prev_cond</th>\n",
       "      <th>Survived_1_year</th>\n",
       "    </tr>\n",
       "  </thead>\n",
       "  <tbody>\n",
       "    <tr>\n",
       "      <th>0</th>\n",
       "      <td>26082</td>\n",
       "      <td>19</td>\n",
       "      <td>3525</td>\n",
       "      <td>DX3 DX4</td>\n",
       "      <td>49</td>\n",
       "      <td>18.996774</td>\n",
       "      <td>YES</td>\n",
       "      <td>RURAL</td>\n",
       "      <td>Stable</td>\n",
       "      <td>0.0</td>\n",
       "      <td>0.0</td>\n",
       "      <td>1.0</td>\n",
       "      <td>0.0</td>\n",
       "      <td>1.0</td>\n",
       "      <td>0.0</td>\n",
       "      <td>0.0</td>\n",
       "      <td>2.0</td>\n",
       "      <td>0</td>\n",
       "    </tr>\n",
       "    <tr>\n",
       "      <th>1</th>\n",
       "      <td>3935</td>\n",
       "      <td>2</td>\n",
       "      <td>11357</td>\n",
       "      <td>dx1 dx4</td>\n",
       "      <td>32</td>\n",
       "      <td>18.807999</td>\n",
       "      <td>YES</td>\n",
       "      <td>RURAL</td>\n",
       "      <td>Stable</td>\n",
       "      <td>1.0</td>\n",
       "      <td>0.0</td>\n",
       "      <td>0.0</td>\n",
       "      <td>0.0</td>\n",
       "      <td>1.0</td>\n",
       "      <td>0.0</td>\n",
       "      <td>0.0</td>\n",
       "      <td>2.0</td>\n",
       "      <td>0</td>\n",
       "    </tr>\n",
       "    <tr>\n",
       "      <th>2</th>\n",
       "      <td>25150</td>\n",
       "      <td>45</td>\n",
       "      <td>10831</td>\n",
       "      <td>DX6</td>\n",
       "      <td>43</td>\n",
       "      <td>26.737058</td>\n",
       "      <td>NO</td>\n",
       "      <td>URBAN</td>\n",
       "      <td>Stable</td>\n",
       "      <td>1.0</td>\n",
       "      <td>0.0</td>\n",
       "      <td>0.0</td>\n",
       "      <td>0.0</td>\n",
       "      <td>0.0</td>\n",
       "      <td>0.0</td>\n",
       "      <td>0.0</td>\n",
       "      <td>1.0</td>\n",
       "      <td>0</td>\n",
       "    </tr>\n",
       "    <tr>\n",
       "      <th>3</th>\n",
       "      <td>6843</td>\n",
       "      <td>16</td>\n",
       "      <td>3726</td>\n",
       "      <td>dx6</td>\n",
       "      <td>9</td>\n",
       "      <td>21.950668</td>\n",
       "      <td>NO</td>\n",
       "      <td>RURAL</td>\n",
       "      <td>Stable</td>\n",
       "      <td>1.0</td>\n",
       "      <td>0.0</td>\n",
       "      <td>1.0</td>\n",
       "      <td>0.0</td>\n",
       "      <td>1.0</td>\n",
       "      <td>0.0</td>\n",
       "      <td>0.0</td>\n",
       "      <td>3.0</td>\n",
       "      <td>1</td>\n",
       "    </tr>\n",
       "    <tr>\n",
       "      <th>4</th>\n",
       "      <td>30965</td>\n",
       "      <td>30</td>\n",
       "      <td>3903</td>\n",
       "      <td>DX3 DX4</td>\n",
       "      <td>44</td>\n",
       "      <td>20.591655</td>\n",
       "      <td>YES</td>\n",
       "      <td>RURAL</td>\n",
       "      <td>Stable</td>\n",
       "      <td>1.0</td>\n",
       "      <td>0.0</td>\n",
       "      <td>1.0</td>\n",
       "      <td>0.0</td>\n",
       "      <td>0.0</td>\n",
       "      <td>0.0</td>\n",
       "      <td>0.0</td>\n",
       "      <td>2.0</td>\n",
       "      <td>1</td>\n",
       "    </tr>\n",
       "    <tr>\n",
       "      <th>...</th>\n",
       "      <td>...</td>\n",
       "      <td>...</td>\n",
       "      <td>...</td>\n",
       "      <td>...</td>\n",
       "      <td>...</td>\n",
       "      <td>...</td>\n",
       "      <td>...</td>\n",
       "      <td>...</td>\n",
       "      <td>...</td>\n",
       "      <td>...</td>\n",
       "      <td>...</td>\n",
       "      <td>...</td>\n",
       "      <td>...</td>\n",
       "      <td>...</td>\n",
       "      <td>...</td>\n",
       "      <td>...</td>\n",
       "      <td>...</td>\n",
       "      <td>...</td>\n",
       "    </tr>\n",
       "    <tr>\n",
       "      <th>22566</th>\n",
       "      <td>11752</td>\n",
       "      <td>42</td>\n",
       "      <td>7540</td>\n",
       "      <td>DX3</td>\n",
       "      <td>56</td>\n",
       "      <td>29.727765</td>\n",
       "      <td>YES</td>\n",
       "      <td>RURAL</td>\n",
       "      <td>Stable</td>\n",
       "      <td>1.0</td>\n",
       "      <td>0.0</td>\n",
       "      <td>1.0</td>\n",
       "      <td>0.0</td>\n",
       "      <td>0.0</td>\n",
       "      <td>0.0</td>\n",
       "      <td>0.0</td>\n",
       "      <td>2.0</td>\n",
       "      <td>0</td>\n",
       "    </tr>\n",
       "    <tr>\n",
       "      <th>22567</th>\n",
       "      <td>32797</td>\n",
       "      <td>52</td>\n",
       "      <td>1337</td>\n",
       "      <td>Dx3 dx5</td>\n",
       "      <td>41</td>\n",
       "      <td>21.222111</td>\n",
       "      <td>NO</td>\n",
       "      <td>RURAL</td>\n",
       "      <td>Stable</td>\n",
       "      <td>1.0</td>\n",
       "      <td>0.0</td>\n",
       "      <td>0.0</td>\n",
       "      <td>0.0</td>\n",
       "      <td>0.0</td>\n",
       "      <td>0.0</td>\n",
       "      <td>0.0</td>\n",
       "      <td>1.0</td>\n",
       "      <td>1</td>\n",
       "    </tr>\n",
       "    <tr>\n",
       "      <th>22568</th>\n",
       "      <td>10129</td>\n",
       "      <td>44</td>\n",
       "      <td>5506</td>\n",
       "      <td>DX3</td>\n",
       "      <td>62</td>\n",
       "      <td>23.841969</td>\n",
       "      <td>YES</td>\n",
       "      <td>URBAN</td>\n",
       "      <td>Stable</td>\n",
       "      <td>1.0</td>\n",
       "      <td>0.0</td>\n",
       "      <td>0.0</td>\n",
       "      <td>0.0</td>\n",
       "      <td>0.0</td>\n",
       "      <td>0.0</td>\n",
       "      <td>0.0</td>\n",
       "      <td>1.0</td>\n",
       "      <td>0</td>\n",
       "    </tr>\n",
       "    <tr>\n",
       "      <th>22569</th>\n",
       "      <td>5831</td>\n",
       "      <td>11</td>\n",
       "      <td>10850</td>\n",
       "      <td>DX2</td>\n",
       "      <td>33</td>\n",
       "      <td>20.058406</td>\n",
       "      <td>YES</td>\n",
       "      <td>URBAN</td>\n",
       "      <td>Stable</td>\n",
       "      <td>1.0</td>\n",
       "      <td>1.0</td>\n",
       "      <td>0.0</td>\n",
       "      <td>0.0</td>\n",
       "      <td>0.0</td>\n",
       "      <td>0.0</td>\n",
       "      <td>0.0</td>\n",
       "      <td>2.0</td>\n",
       "      <td>1</td>\n",
       "    </tr>\n",
       "    <tr>\n",
       "      <th>22570</th>\n",
       "      <td>12106</td>\n",
       "      <td>50</td>\n",
       "      <td>2667</td>\n",
       "      <td>DX1 DX3</td>\n",
       "      <td>16</td>\n",
       "      <td>17.715229</td>\n",
       "      <td>YES</td>\n",
       "      <td>RURAL</td>\n",
       "      <td>Stable</td>\n",
       "      <td>1.0</td>\n",
       "      <td>0.0</td>\n",
       "      <td>0.0</td>\n",
       "      <td>0.0</td>\n",
       "      <td>0.0</td>\n",
       "      <td>0.0</td>\n",
       "      <td>0.0</td>\n",
       "      <td>1.0</td>\n",
       "      <td>1</td>\n",
       "    </tr>\n",
       "  </tbody>\n",
       "</table>\n",
       "<p>22571 rows × 18 columns</p>\n",
       "</div>"
      ],
      "text/plain": [
       "       ID_Patient_Care_Situation  Diagnosed_Condition  Patient_ID  \\\n",
       "0                          26082                   19        3525   \n",
       "1                           3935                    2       11357   \n",
       "2                          25150                   45       10831   \n",
       "3                           6843                   16        3726   \n",
       "4                          30965                   30        3903   \n",
       "...                          ...                  ...         ...   \n",
       "22566                      11752                   42        7540   \n",
       "22567                      32797                   52        1337   \n",
       "22568                      10129                   44        5506   \n",
       "22569                       5831                   11       10850   \n",
       "22570                      12106                   50        2667   \n",
       "\n",
       "      Treated_with_drugs  Patient_Age  Patient_Body_Mass_Index Patient_Smoker  \\\n",
       "0                DX3 DX4           49                18.996774            YES   \n",
       "1                dx1 dx4           32                18.807999            YES   \n",
       "2                   DX6            43                26.737058            NO    \n",
       "3                    dx6            9                21.950668             NO   \n",
       "4                DX3 DX4           44                20.591655            YES   \n",
       "...                  ...          ...                      ...            ...   \n",
       "22566                DX3           56                29.727765            YES   \n",
       "22567           Dx3 dx5            41                21.222111            NO    \n",
       "22568                DX3           62                23.841969           YES    \n",
       "22569                DX2           33                20.058406            YES   \n",
       "22570           DX1 DX3            16                17.715229            YES   \n",
       "\n",
       "      Patient_Rural_Urban Patient_mental_condition    A    B    C    D    E  \\\n",
       "0                   RURAL                   Stable  0.0  0.0  1.0  0.0  1.0   \n",
       "1                   RURAL                   Stable  1.0  0.0  0.0  0.0  1.0   \n",
       "2                   URBAN                   Stable  1.0  0.0  0.0  0.0  0.0   \n",
       "3                   RURAL                   Stable  1.0  0.0  1.0  0.0  1.0   \n",
       "4                   RURAL                   Stable  1.0  0.0  1.0  0.0  0.0   \n",
       "...                   ...                      ...  ...  ...  ...  ...  ...   \n",
       "22566               RURAL                   Stable  1.0  0.0  1.0  0.0  0.0   \n",
       "22567               RURAL                   Stable  1.0  0.0  0.0  0.0  0.0   \n",
       "22568               URBAN                   Stable  1.0  0.0  0.0  0.0  0.0   \n",
       "22569               URBAN                   Stable  1.0  1.0  0.0  0.0  0.0   \n",
       "22570               RURAL                   Stable  1.0  0.0  0.0  0.0  0.0   \n",
       "\n",
       "         F    Z  Number_of_prev_cond  Survived_1_year  \n",
       "0      0.0  0.0                  2.0                0  \n",
       "1      0.0  0.0                  2.0                0  \n",
       "2      0.0  0.0                  1.0                0  \n",
       "3      0.0  0.0                  3.0                1  \n",
       "4      0.0  0.0                  2.0                1  \n",
       "...    ...  ...                  ...              ...  \n",
       "22566  0.0  0.0                  2.0                0  \n",
       "22567  0.0  0.0                  1.0                1  \n",
       "22568  0.0  0.0                  1.0                0  \n",
       "22569  0.0  0.0                  2.0                1  \n",
       "22570  0.0  0.0                  1.0                1  \n",
       "\n",
       "[22571 rows x 18 columns]"
      ]
     },
     "execution_count": 2,
     "metadata": {},
     "output_type": "execute_result"
    }
   ],
   "source": [
    "Train = pd.read_csv('hospital_train.csv')\n",
    "Train"
   ]
  },
  {
   "cell_type": "code",
   "execution_count": 3,
   "metadata": {},
   "outputs": [],
   "source": [
    "X_train = Train.iloc[:,3:-1]\n",
    "Y_train = Train.iloc[:, -1]"
   ]
  },
  {
   "cell_type": "code",
   "execution_count": 4,
   "metadata": {},
   "outputs": [],
   "source": [
    "X_test = pd.read_csv('hospital_test_X.csv')"
   ]
  },
  {
   "cell_type": "code",
   "execution_count": 5,
   "metadata": {},
   "outputs": [],
   "source": [
    "X_test = X_test.iloc[:,3:]"
   ]
  },
  {
   "cell_type": "code",
   "execution_count": 6,
   "metadata": {},
   "outputs": [
    {
     "data": {
      "text/html": [
       "<div>\n",
       "<style scoped>\n",
       "    .dataframe tbody tr th:only-of-type {\n",
       "        vertical-align: middle;\n",
       "    }\n",
       "\n",
       "    .dataframe tbody tr th {\n",
       "        vertical-align: top;\n",
       "    }\n",
       "\n",
       "    .dataframe thead th {\n",
       "        text-align: right;\n",
       "    }\n",
       "</style>\n",
       "<table border=\"1\" class=\"dataframe\">\n",
       "  <thead>\n",
       "    <tr style=\"text-align: right;\">\n",
       "      <th></th>\n",
       "      <th>Treated_with_drugs</th>\n",
       "      <th>Patient_Age</th>\n",
       "      <th>Patient_Body_Mass_Index</th>\n",
       "      <th>Patient_Smoker</th>\n",
       "      <th>Patient_Rural_Urban</th>\n",
       "      <th>Patient_mental_condition</th>\n",
       "      <th>A</th>\n",
       "      <th>B</th>\n",
       "      <th>C</th>\n",
       "      <th>D</th>\n",
       "      <th>E</th>\n",
       "      <th>F</th>\n",
       "      <th>Z</th>\n",
       "      <th>Number_of_prev_cond</th>\n",
       "    </tr>\n",
       "  </thead>\n",
       "  <tbody>\n",
       "    <tr>\n",
       "      <th>0</th>\n",
       "      <td>Dx6</td>\n",
       "      <td>35</td>\n",
       "      <td>23.775226</td>\n",
       "      <td>YES</td>\n",
       "      <td>RURAL</td>\n",
       "      <td>Stable</td>\n",
       "      <td>1.0</td>\n",
       "      <td>0.0</td>\n",
       "      <td>1.0</td>\n",
       "      <td>0.0</td>\n",
       "      <td>0.0</td>\n",
       "      <td>0.0</td>\n",
       "      <td>0.0</td>\n",
       "      <td>2.0</td>\n",
       "    </tr>\n",
       "    <tr>\n",
       "      <th>1</th>\n",
       "      <td>DX1 DX5</td>\n",
       "      <td>47</td>\n",
       "      <td>18.404252</td>\n",
       "      <td>YES</td>\n",
       "      <td>RURAL</td>\n",
       "      <td>Stable</td>\n",
       "      <td>1.0</td>\n",
       "      <td>0.0</td>\n",
       "      <td>0.0</td>\n",
       "      <td>1.0</td>\n",
       "      <td>0.0</td>\n",
       "      <td>0.0</td>\n",
       "      <td>0.0</td>\n",
       "      <td>2.0</td>\n",
       "    </tr>\n",
       "    <tr>\n",
       "      <th>2</th>\n",
       "      <td>DX3 DX5</td>\n",
       "      <td>64</td>\n",
       "      <td>27.828730</td>\n",
       "      <td>NO</td>\n",
       "      <td>URBAN</td>\n",
       "      <td>Stable</td>\n",
       "      <td>1.0</td>\n",
       "      <td>0.0</td>\n",
       "      <td>0.0</td>\n",
       "      <td>0.0</td>\n",
       "      <td>0.0</td>\n",
       "      <td>0.0</td>\n",
       "      <td>0.0</td>\n",
       "      <td>1.0</td>\n",
       "    </tr>\n",
       "    <tr>\n",
       "      <th>3</th>\n",
       "      <td>DX1</td>\n",
       "      <td>60</td>\n",
       "      <td>25.143488</td>\n",
       "      <td>YES</td>\n",
       "      <td>URBAN</td>\n",
       "      <td>Stable</td>\n",
       "      <td>1.0</td>\n",
       "      <td>0.0</td>\n",
       "      <td>0.0</td>\n",
       "      <td>0.0</td>\n",
       "      <td>0.0</td>\n",
       "      <td>0.0</td>\n",
       "      <td>0.0</td>\n",
       "      <td>1.0</td>\n",
       "    </tr>\n",
       "    <tr>\n",
       "      <th>4</th>\n",
       "      <td>DX1 DX2 DX3 DX4</td>\n",
       "      <td>9</td>\n",
       "      <td>29.465496</td>\n",
       "      <td>NO</td>\n",
       "      <td>URBAN</td>\n",
       "      <td>Stable</td>\n",
       "      <td>1.0</td>\n",
       "      <td>0.0</td>\n",
       "      <td>0.0</td>\n",
       "      <td>0.0</td>\n",
       "      <td>0.0</td>\n",
       "      <td>0.0</td>\n",
       "      <td>0.0</td>\n",
       "      <td>1.0</td>\n",
       "    </tr>\n",
       "    <tr>\n",
       "      <th>...</th>\n",
       "      <td>...</td>\n",
       "      <td>...</td>\n",
       "      <td>...</td>\n",
       "      <td>...</td>\n",
       "      <td>...</td>\n",
       "      <td>...</td>\n",
       "      <td>...</td>\n",
       "      <td>...</td>\n",
       "      <td>...</td>\n",
       "      <td>...</td>\n",
       "      <td>...</td>\n",
       "      <td>...</td>\n",
       "      <td>...</td>\n",
       "      <td>...</td>\n",
       "    </tr>\n",
       "    <tr>\n",
       "      <th>2503</th>\n",
       "      <td>DX3 DX5</td>\n",
       "      <td>9</td>\n",
       "      <td>29.856703</td>\n",
       "      <td>NO</td>\n",
       "      <td>RURAL</td>\n",
       "      <td>Stable</td>\n",
       "      <td>1.0</td>\n",
       "      <td>0.0</td>\n",
       "      <td>0.0</td>\n",
       "      <td>0.0</td>\n",
       "      <td>1.0</td>\n",
       "      <td>0.0</td>\n",
       "      <td>0.0</td>\n",
       "      <td>2.0</td>\n",
       "    </tr>\n",
       "    <tr>\n",
       "      <th>2504</th>\n",
       "      <td>dx1 dx2</td>\n",
       "      <td>51</td>\n",
       "      <td>21.643459</td>\n",
       "      <td>YES</td>\n",
       "      <td>URBAN</td>\n",
       "      <td>Stable</td>\n",
       "      <td>1.0</td>\n",
       "      <td>1.0</td>\n",
       "      <td>0.0</td>\n",
       "      <td>0.0</td>\n",
       "      <td>0.0</td>\n",
       "      <td>0.0</td>\n",
       "      <td>0.0</td>\n",
       "      <td>2.0</td>\n",
       "    </tr>\n",
       "    <tr>\n",
       "      <th>2505</th>\n",
       "      <td>DX3 DX4</td>\n",
       "      <td>35</td>\n",
       "      <td>26.121065</td>\n",
       "      <td>YES</td>\n",
       "      <td>RURAL</td>\n",
       "      <td>Stable</td>\n",
       "      <td>1.0</td>\n",
       "      <td>0.0</td>\n",
       "      <td>0.0</td>\n",
       "      <td>0.0</td>\n",
       "      <td>0.0</td>\n",
       "      <td>0.0</td>\n",
       "      <td>0.0</td>\n",
       "      <td>1.0</td>\n",
       "    </tr>\n",
       "    <tr>\n",
       "      <th>2506</th>\n",
       "      <td>DX5</td>\n",
       "      <td>23</td>\n",
       "      <td>26.064654</td>\n",
       "      <td>YES</td>\n",
       "      <td>RURAL</td>\n",
       "      <td>Stable</td>\n",
       "      <td>NaN</td>\n",
       "      <td>NaN</td>\n",
       "      <td>NaN</td>\n",
       "      <td>NaN</td>\n",
       "      <td>NaN</td>\n",
       "      <td>NaN</td>\n",
       "      <td>NaN</td>\n",
       "      <td>NaN</td>\n",
       "    </tr>\n",
       "    <tr>\n",
       "      <th>2507</th>\n",
       "      <td>DX6</td>\n",
       "      <td>19</td>\n",
       "      <td>19.734781</td>\n",
       "      <td>NO</td>\n",
       "      <td>URBAN</td>\n",
       "      <td>Stable</td>\n",
       "      <td>0.0</td>\n",
       "      <td>0.0</td>\n",
       "      <td>0.0</td>\n",
       "      <td>1.0</td>\n",
       "      <td>0.0</td>\n",
       "      <td>0.0</td>\n",
       "      <td>0.0</td>\n",
       "      <td>1.0</td>\n",
       "    </tr>\n",
       "  </tbody>\n",
       "</table>\n",
       "<p>2508 rows × 14 columns</p>\n",
       "</div>"
      ],
      "text/plain": [
       "     Treated_with_drugs  Patient_Age  Patient_Body_Mass_Index Patient_Smoker  \\\n",
       "0                  Dx6            35                23.775226           YES    \n",
       "1               DX1 DX5           47                18.404252           YES    \n",
       "2               DX3 DX5           64                27.828730             NO   \n",
       "3                   DX1           60                25.143488            YES   \n",
       "4       DX1 DX2 DX3 DX4            9                29.465496             NO   \n",
       "...                 ...          ...                      ...            ...   \n",
       "2503            DX3 DX5            9                29.856703             NO   \n",
       "2504            dx1 dx2           51                21.643459            YES   \n",
       "2505            DX3 DX4           35                26.121065           YES    \n",
       "2506                DX5           23                26.064654           YES    \n",
       "2507               DX6            19                19.734781            NO    \n",
       "\n",
       "     Patient_Rural_Urban Patient_mental_condition    A    B    C    D    E  \\\n",
       "0                  RURAL                   Stable  1.0  0.0  1.0  0.0  0.0   \n",
       "1                  RURAL                   Stable  1.0  0.0  0.0  1.0  0.0   \n",
       "2                  URBAN                   Stable  1.0  0.0  0.0  0.0  0.0   \n",
       "3                  URBAN                   Stable  1.0  0.0  0.0  0.0  0.0   \n",
       "4                  URBAN                   Stable  1.0  0.0  0.0  0.0  0.0   \n",
       "...                  ...                      ...  ...  ...  ...  ...  ...   \n",
       "2503               RURAL                   Stable  1.0  0.0  0.0  0.0  1.0   \n",
       "2504               URBAN                   Stable  1.0  1.0  0.0  0.0  0.0   \n",
       "2505               RURAL                   Stable  1.0  0.0  0.0  0.0  0.0   \n",
       "2506               RURAL                   Stable  NaN  NaN  NaN  NaN  NaN   \n",
       "2507               URBAN                   Stable  0.0  0.0  0.0  1.0  0.0   \n",
       "\n",
       "        F    Z  Number_of_prev_cond  \n",
       "0     0.0  0.0                  2.0  \n",
       "1     0.0  0.0                  2.0  \n",
       "2     0.0  0.0                  1.0  \n",
       "3     0.0  0.0                  1.0  \n",
       "4     0.0  0.0                  1.0  \n",
       "...   ...  ...                  ...  \n",
       "2503  0.0  0.0                  2.0  \n",
       "2504  0.0  0.0                  2.0  \n",
       "2505  0.0  0.0                  1.0  \n",
       "2506  NaN  NaN                  NaN  \n",
       "2507  0.0  0.0                  1.0  \n",
       "\n",
       "[2508 rows x 14 columns]"
      ]
     },
     "execution_count": 6,
     "metadata": {},
     "output_type": "execute_result"
    }
   ],
   "source": [
    "X_test"
   ]
  },
  {
   "cell_type": "markdown",
   "metadata": {},
   "source": [
    "## Preprocessing"
   ]
  },
  {
   "cell_type": "markdown",
   "metadata": {},
   "source": [
    "### Treated with drugs"
   ]
  },
  {
   "cell_type": "code",
   "execution_count": 7,
   "metadata": {},
   "outputs": [
    {
     "data": {
      "text/plain": [
       "array(['DX3 DX4', 'dx1 dx4', 'DX6 ', 'dx6', 'DX2', 'Dx1 dx2 ', 'dx1',\n",
       "       'DX1', 'DX6', 'DX5 ', 'dx1 ', 'Dx2 ', 'Dx6', 'DX2 DX4', 'Dx4',\n",
       "       'DX3 DX5', 'DX1 DX3', 'DX3', 'dx6 ', 'DX5', 'DX2 ', 'Dx2 dx3',\n",
       "       'DX4', 'DX1 DX4', 'dx1 dx3 ', 'DX1 DX2', 'DX3 DX4 ', 'Dx2 dx5',\n",
       "       'DX2 DX5', 'DX4 DX5', 'Dx6 ', 'DX1 DX2 DX3', 'dx3 dx5', 'DX1 ',\n",
       "       'DX3 ', 'DX1 DX2 DX5', 'DX1 DX4 ', 'Dx1 dx3', 'Dx2', 'dx2 dx5',\n",
       "       'DX1 DX3 ', 'Dx3 ', 'dx1 dx3', 'Dx3', 'DX4 ', 'DX2 DX4 DX5', 'dx2',\n",
       "       'DX2 DX3 DX4 ', 'DX1 DX3 DX5 ', 'dx5', 'DX3 DX4 DX5', 'dx4 ',\n",
       "       'DX1 DX2 DX3 DX5', 'dx4', 'dx2 ', 'dx3', 'Dx5', 'Dx1', 'dx2 dx3',\n",
       "       'dx4 dx5', 'DX2 DX3', 'Dx1 dx5 ', 'Dx4 ', 'DX1 DX5 ', 'DX2 DX4 ',\n",
       "       'Dx2 dx4 ', 'dx5 ', 'DX3 DX4 DX5 ', 'DX1 DX2 DX4 ', 'DX2 DX3 ',\n",
       "       'dx3 dx4', 'DX1 DX2 ', 'Dx3 dx5 ', 'dx2 dx3 ', 'DX2 DX3 DX4',\n",
       "       'dx1 dx3 dx5', 'DX2 DX5 ', 'dx3 ', 'DX2 DX4 DX5 ', 'DX1 DX5',\n",
       "       'Dx1 dx2 dx5 ', 'DX4 DX5 ', 'DX1 DX3 DX4 ', 'Dx3 dx4', 'dx2 dx4',\n",
       "       'dx1 dx4 ', 'Dx1 dx4', 'DX3 DX5 ', 'DX1 DX3 DX4', 'DX1 DX4 DX5 ',\n",
       "       'DX1 DX2 DX4 DX5', 'DX1 DX2 DX4', 'Dx3 dx5', 'DX2 DX3 DX5', 'Dx1 ',\n",
       "       'dx1 dx2 dx4', 'dx3 dx4 dx5', 'dx2 dx4 ', 'dx1 dx2', 'Dx1 dx5',\n",
       "       'dx2 dx5 ', 'Dx5 ', 'DX1 DX2 DX5 ', 'dx4 dx5 ', 'dx2 dx3 dx4',\n",
       "       'dx1 dx2 dx4 ', 'dx1 dx3 dx4 ', 'Dx3 dx4 dx5', 'Dx1 dx3 dx4',\n",
       "       'DX1 DX4 DX5', 'dx1 dx5', 'Dx2 dx4', 'Dx4 dx5 ', 'Dx2 dx3 dx5 ',\n",
       "       'dx3 dx4 ', 'DX1 DX2 DX3 ', 'DX1 DX3 DX5', 'Dx1 dx2 dx5',\n",
       "       'Dx1 dx3 ', 'Dx4 dx5', 'dx1 dx3 dx4 dx5', 'DX2 DX3 DX4 DX5',\n",
       "       'dx1 dx5 ', 'dx1 dx2 dx3', 'Dx2 dx3 dx5', 'DX1 DX2 DX3 DX4 ',\n",
       "       'dx2 dx4 dx5', 'Dx1 dx2', 'Dx1 dx2 dx4', 'dx2 dx3 dx5',\n",
       "       'Dx2 dx3 dx4', 'DX1 DX2 DX3 DX4 DX5', 'Dx3 dx4 dx5 ', 'Dx2 dx5 ',\n",
       "       'dx2 dx4 dx5 ', 'dx2 dx3 dx4 dx5 ', 'dx1 dx2 dx5 ',\n",
       "       'Dx1 dx2 dx4 dx5 ', 'Dx1 dx2 dx3', 'Dx1 dx4 dx5 ', 'Dx1 dx3 dx5',\n",
       "       'Dx2 dx3 dx4 dx5', 'Dx1 dx2 dx3 dx4 ', 'dx1 dx2 ',\n",
       "       'DX1 DX3 DX4 DX5 ', 'dx3 dx5 ', 'Dx2 dx4 dx5', 'Dx3 dx4 ',\n",
       "       'DX1 DX3 DX4 DX5', 'Dx1 dx2 dx3 ', 'DX1 DX2 DX3 DX4', nan,\n",
       "       'dx2 dx3 dx5 ', 'dx1 dx2 dx4 dx5', 'Dx1 dx4 ', 'DX2 DX3 DX5 ',\n",
       "       'dx1 dx2 dx3 ', 'dx1 dx4 dx5', 'DX2 DX3 DX4 DX5 ', 'dx1 dx2 dx5',\n",
       "       'dx3 dx4 dx5 ', 'dx1 dx3 dx5 ', 'Dx2 dx3 ', 'dx1 dx3 dx4',\n",
       "       'Dx1 dx3 dx4 ', 'Dx2 dx3 dx4 ', 'Dx1 dx2 dx3 dx5',\n",
       "       'dx1 dx2 dx3 dx4', 'Dx1 dx2 dx4 ', 'Dx1 dx2 dx3 dx4',\n",
       "       'dx2 dx3 dx4 ', 'dx1 dx4 dx5 ', 'DX1 DX2 DX3 DX4 DX5 ',\n",
       "       'DX1 DX2 DX4 DX5 ', 'Dx1 dx2 dx4 dx5', 'Dx1 dx3 dx5 ',\n",
       "       'dx1 dx2 dx3 dx5', 'Dx1 dx3 dx4 dx5', 'dx1 dx2 dx3 dx5 ',\n",
       "       'Dx2 dx4 dx5 ', 'dx1 dx3 dx4 dx5 ', 'Dx1 dx4 dx5'], dtype=object)"
      ]
     },
     "execution_count": 7,
     "metadata": {},
     "output_type": "execute_result"
    }
   ],
   "source": [
    "X_train.Treated_with_drugs.unique()"
   ]
  },
  {
   "cell_type": "code",
   "execution_count": 8,
   "metadata": {},
   "outputs": [],
   "source": [
    "def clean(X):\n",
    "    X['Treated_with_drugs'] = X['Treated_with_drugs'].str.upper()\n",
    "    X = X.join(X['Treated_with_drugs'].str.join(sep='').str.get_dummies(sep=' '))\n",
    "    X.drop(columns='Treated_with_drugs', inplace = True)\n",
    "    \n",
    "    for i in X.loc[:,'DX1':'DX6']:\n",
    "        new_name = 'Drug_{}'.format(i)\n",
    "        X = X.rename({i:new_name},axis=1)\n",
    "    return X"
   ]
  },
  {
   "cell_type": "code",
   "execution_count": 9,
   "metadata": {},
   "outputs": [],
   "source": [
    "X_train = clean(X_train)\n",
    "X_test = clean(X_test)"
   ]
  },
  {
   "cell_type": "markdown",
   "metadata": {},
   "source": [
    "### Patient_Smoker"
   ]
  },
  {
   "cell_type": "code",
   "execution_count": 10,
   "metadata": {},
   "outputs": [
    {
     "data": {
      "text/plain": [
       "array(['YES', 'NO ', 'NO', 'YES ', 'YESS', 'YESS ', 'CANNOT SAY',\n",
       "       'Cannot say', 'CANNOT SAY ', 'Cannot say '], dtype=object)"
      ]
     },
     "execution_count": 10,
     "metadata": {},
     "output_type": "execute_result"
    }
   ],
   "source": [
    "X_train.Patient_Smoker.unique()"
   ]
  },
  {
   "cell_type": "code",
   "execution_count": 11,
   "metadata": {},
   "outputs": [
    {
     "data": {
      "text/plain": [
       "array(['YES ', 'NO', 'YES', 'NO ', 'YESS', 'YESS '], dtype=object)"
      ]
     },
     "execution_count": 11,
     "metadata": {},
     "output_type": "execute_result"
    }
   ],
   "source": [
    "X_test.Patient_Smoker.unique()"
   ]
  },
  {
   "cell_type": "code",
   "execution_count": 12,
   "metadata": {},
   "outputs": [],
   "source": [
    "def Dummies(X):\n",
    "    X['Patient_Smoker'] = X['Patient_Smoker'].str.strip()\n",
    "    X['Patient_Smoker'] = X['Patient_Smoker'].str.lower()\n",
    "    X['Patient_Smoker'] = X['Patient_Smoker'].str.replace('yess', 'yes')\n",
    "    X['Patient_Smoker'] = X['Patient_Smoker'].str.replace('cannotsay', 'cannot say')\n",
    "    \n",
    "    X = X.join(pd.get_dummies(X['Patient_Smoker'], prefix='Smoker'))\n",
    "    X.drop(columns='Patient_Smoker', inplace=True)\n",
    "    return X"
   ]
  },
  {
   "cell_type": "code",
   "execution_count": 13,
   "metadata": {},
   "outputs": [],
   "source": [
    "X_test['Smoker_cannot say'] = 0"
   ]
  },
  {
   "cell_type": "code",
   "execution_count": 14,
   "metadata": {},
   "outputs": [],
   "source": [
    "X_train = Dummies(X_train)\n",
    "X_test = Dummies(X_test)"
   ]
  },
  {
   "cell_type": "markdown",
   "metadata": {},
   "source": [
    "### Patient_Rural_Urban"
   ]
  },
  {
   "cell_type": "code",
   "execution_count": 15,
   "metadata": {},
   "outputs": [
    {
     "data": {
      "text/plain": [
       "array(['RURAL', 'URBAN'], dtype=object)"
      ]
     },
     "execution_count": 15,
     "metadata": {},
     "output_type": "execute_result"
    }
   ],
   "source": [
    "X_train.Patient_Rural_Urban.unique()"
   ]
  },
  {
   "cell_type": "code",
   "execution_count": 16,
   "metadata": {},
   "outputs": [],
   "source": [
    "def Categorical(X):\n",
    "    X['Patient_Rural_Urban'] = pd.Categorical(X['Patient_Rural_Urban']).codes\n",
    "    return X"
   ]
  },
  {
   "cell_type": "code",
   "execution_count": 17,
   "metadata": {},
   "outputs": [],
   "source": [
    "X_train = Categorical(X_train)\n",
    "X_test = Categorical(X_test)"
   ]
  },
  {
   "cell_type": "markdown",
   "metadata": {},
   "source": [
    "### Patient_mental_condition"
   ]
  },
  {
   "cell_type": "code",
   "execution_count": 18,
   "metadata": {},
   "outputs": [
    {
     "data": {
      "text/plain": [
       "array(['Stable'], dtype=object)"
      ]
     },
     "execution_count": 18,
     "metadata": {},
     "output_type": "execute_result"
    }
   ],
   "source": [
    "X_train.Patient_mental_condition.unique()"
   ]
  },
  {
   "cell_type": "code",
   "execution_count": 19,
   "metadata": {},
   "outputs": [],
   "source": [
    "def drop_col(X):\n",
    "    X.drop(columns='Patient_mental_condition', inplace=True)\n",
    "    return X"
   ]
  },
  {
   "cell_type": "code",
   "execution_count": 20,
   "metadata": {},
   "outputs": [],
   "source": [
    "X_train = drop_col(X_train)\n",
    "X_test = drop_col(X_test)"
   ]
  },
  {
   "cell_type": "markdown",
   "metadata": {},
   "source": [
    "### A-Z"
   ]
  },
  {
   "cell_type": "code",
   "execution_count": 21,
   "metadata": {},
   "outputs": [
    {
     "data": {
      "text/plain": [
       "array([ 0.,  1., nan])"
      ]
     },
     "execution_count": 21,
     "metadata": {},
     "output_type": "execute_result"
    }
   ],
   "source": [
    "X_train.A.unique()"
   ]
  },
  {
   "cell_type": "code",
   "execution_count": 22,
   "metadata": {},
   "outputs": [],
   "source": [
    "def Nan_A_Z(X):\n",
    "    X['Nan']=0\n",
    "    ind = np.where(X.A.isna() == True)[0]\n",
    "    if len(np.where(X.loc[ind, 'A':'Z'].isna() == False)[0]) == 0:\n",
    "        X.loc[ind, 'Nan'] = 1\n",
    "        \n",
    "    X = X[['Patient_Age', 'Patient_Body_Mass_Index', 'Patient_Rural_Urban', 'A',\n",
    "       'B', 'C', 'D', 'E', 'F', 'Z','Nan', 'Number_of_prev_cond', 'Drug_DX1',\n",
    "       'Drug_DX2', 'Drug_DX3', 'Drug_DX4', 'Drug_DX5', 'Drug_DX6',\n",
    "       'Smoker_cannot say', 'Smoker_no', 'Smoker_yes']]\n",
    "    X = X.fillna(0)\n",
    "    return X"
   ]
  },
  {
   "cell_type": "code",
   "execution_count": 23,
   "metadata": {},
   "outputs": [],
   "source": [
    "X_train = Nan_A_Z(X_train)\n",
    "X_test = Nan_A_Z(X_test)"
   ]
  },
  {
   "cell_type": "code",
   "execution_count": 24,
   "metadata": {},
   "outputs": [
    {
     "data": {
      "text/plain": [
       "Patient_Age                0\n",
       "Patient_Body_Mass_Index    0\n",
       "Patient_Rural_Urban        0\n",
       "A                          0\n",
       "B                          0\n",
       "C                          0\n",
       "D                          0\n",
       "E                          0\n",
       "F                          0\n",
       "Z                          0\n",
       "Nan                        0\n",
       "Number_of_prev_cond        0\n",
       "Drug_DX1                   0\n",
       "Drug_DX2                   0\n",
       "Drug_DX3                   0\n",
       "Drug_DX4                   0\n",
       "Drug_DX5                   0\n",
       "Drug_DX6                   0\n",
       "Smoker_cannot say          0\n",
       "Smoker_no                  0\n",
       "Smoker_yes                 0\n",
       "dtype: int64"
      ]
     },
     "execution_count": 24,
     "metadata": {},
     "output_type": "execute_result"
    }
   ],
   "source": [
    "X_train.isna().sum()"
   ]
  },
  {
   "cell_type": "code",
   "execution_count": 25,
   "metadata": {},
   "outputs": [
    {
     "data": {
      "text/html": [
       "<div>\n",
       "<style scoped>\n",
       "    .dataframe tbody tr th:only-of-type {\n",
       "        vertical-align: middle;\n",
       "    }\n",
       "\n",
       "    .dataframe tbody tr th {\n",
       "        vertical-align: top;\n",
       "    }\n",
       "\n",
       "    .dataframe thead th {\n",
       "        text-align: right;\n",
       "    }\n",
       "</style>\n",
       "<table border=\"1\" class=\"dataframe\">\n",
       "  <thead>\n",
       "    <tr style=\"text-align: right;\">\n",
       "      <th></th>\n",
       "      <th>Patient_Age</th>\n",
       "      <th>Patient_Body_Mass_Index</th>\n",
       "      <th>Patient_Rural_Urban</th>\n",
       "      <th>A</th>\n",
       "      <th>B</th>\n",
       "      <th>C</th>\n",
       "      <th>D</th>\n",
       "      <th>E</th>\n",
       "      <th>F</th>\n",
       "      <th>Z</th>\n",
       "      <th>...</th>\n",
       "      <th>Number_of_prev_cond</th>\n",
       "      <th>Drug_DX1</th>\n",
       "      <th>Drug_DX2</th>\n",
       "      <th>Drug_DX3</th>\n",
       "      <th>Drug_DX4</th>\n",
       "      <th>Drug_DX5</th>\n",
       "      <th>Drug_DX6</th>\n",
       "      <th>Smoker_cannot say</th>\n",
       "      <th>Smoker_no</th>\n",
       "      <th>Smoker_yes</th>\n",
       "    </tr>\n",
       "  </thead>\n",
       "  <tbody>\n",
       "    <tr>\n",
       "      <th>0</th>\n",
       "      <td>49</td>\n",
       "      <td>18.996774</td>\n",
       "      <td>0</td>\n",
       "      <td>0.0</td>\n",
       "      <td>0.0</td>\n",
       "      <td>1.0</td>\n",
       "      <td>0.0</td>\n",
       "      <td>1.0</td>\n",
       "      <td>0.0</td>\n",
       "      <td>0.0</td>\n",
       "      <td>...</td>\n",
       "      <td>2.0</td>\n",
       "      <td>0</td>\n",
       "      <td>0</td>\n",
       "      <td>1</td>\n",
       "      <td>1</td>\n",
       "      <td>0</td>\n",
       "      <td>0</td>\n",
       "      <td>0</td>\n",
       "      <td>0</td>\n",
       "      <td>1</td>\n",
       "    </tr>\n",
       "    <tr>\n",
       "      <th>1</th>\n",
       "      <td>32</td>\n",
       "      <td>18.807999</td>\n",
       "      <td>0</td>\n",
       "      <td>1.0</td>\n",
       "      <td>0.0</td>\n",
       "      <td>0.0</td>\n",
       "      <td>0.0</td>\n",
       "      <td>1.0</td>\n",
       "      <td>0.0</td>\n",
       "      <td>0.0</td>\n",
       "      <td>...</td>\n",
       "      <td>2.0</td>\n",
       "      <td>1</td>\n",
       "      <td>0</td>\n",
       "      <td>0</td>\n",
       "      <td>1</td>\n",
       "      <td>0</td>\n",
       "      <td>0</td>\n",
       "      <td>0</td>\n",
       "      <td>0</td>\n",
       "      <td>1</td>\n",
       "    </tr>\n",
       "    <tr>\n",
       "      <th>2</th>\n",
       "      <td>43</td>\n",
       "      <td>26.737058</td>\n",
       "      <td>1</td>\n",
       "      <td>1.0</td>\n",
       "      <td>0.0</td>\n",
       "      <td>0.0</td>\n",
       "      <td>0.0</td>\n",
       "      <td>0.0</td>\n",
       "      <td>0.0</td>\n",
       "      <td>0.0</td>\n",
       "      <td>...</td>\n",
       "      <td>1.0</td>\n",
       "      <td>0</td>\n",
       "      <td>0</td>\n",
       "      <td>0</td>\n",
       "      <td>0</td>\n",
       "      <td>0</td>\n",
       "      <td>1</td>\n",
       "      <td>0</td>\n",
       "      <td>1</td>\n",
       "      <td>0</td>\n",
       "    </tr>\n",
       "    <tr>\n",
       "      <th>3</th>\n",
       "      <td>9</td>\n",
       "      <td>21.950668</td>\n",
       "      <td>0</td>\n",
       "      <td>1.0</td>\n",
       "      <td>0.0</td>\n",
       "      <td>1.0</td>\n",
       "      <td>0.0</td>\n",
       "      <td>1.0</td>\n",
       "      <td>0.0</td>\n",
       "      <td>0.0</td>\n",
       "      <td>...</td>\n",
       "      <td>3.0</td>\n",
       "      <td>0</td>\n",
       "      <td>0</td>\n",
       "      <td>0</td>\n",
       "      <td>0</td>\n",
       "      <td>0</td>\n",
       "      <td>1</td>\n",
       "      <td>0</td>\n",
       "      <td>1</td>\n",
       "      <td>0</td>\n",
       "    </tr>\n",
       "    <tr>\n",
       "      <th>4</th>\n",
       "      <td>44</td>\n",
       "      <td>20.591655</td>\n",
       "      <td>0</td>\n",
       "      <td>1.0</td>\n",
       "      <td>0.0</td>\n",
       "      <td>1.0</td>\n",
       "      <td>0.0</td>\n",
       "      <td>0.0</td>\n",
       "      <td>0.0</td>\n",
       "      <td>0.0</td>\n",
       "      <td>...</td>\n",
       "      <td>2.0</td>\n",
       "      <td>0</td>\n",
       "      <td>0</td>\n",
       "      <td>1</td>\n",
       "      <td>1</td>\n",
       "      <td>0</td>\n",
       "      <td>0</td>\n",
       "      <td>0</td>\n",
       "      <td>0</td>\n",
       "      <td>1</td>\n",
       "    </tr>\n",
       "    <tr>\n",
       "      <th>...</th>\n",
       "      <td>...</td>\n",
       "      <td>...</td>\n",
       "      <td>...</td>\n",
       "      <td>...</td>\n",
       "      <td>...</td>\n",
       "      <td>...</td>\n",
       "      <td>...</td>\n",
       "      <td>...</td>\n",
       "      <td>...</td>\n",
       "      <td>...</td>\n",
       "      <td>...</td>\n",
       "      <td>...</td>\n",
       "      <td>...</td>\n",
       "      <td>...</td>\n",
       "      <td>...</td>\n",
       "      <td>...</td>\n",
       "      <td>...</td>\n",
       "      <td>...</td>\n",
       "      <td>...</td>\n",
       "      <td>...</td>\n",
       "      <td>...</td>\n",
       "    </tr>\n",
       "    <tr>\n",
       "      <th>22566</th>\n",
       "      <td>56</td>\n",
       "      <td>29.727765</td>\n",
       "      <td>0</td>\n",
       "      <td>1.0</td>\n",
       "      <td>0.0</td>\n",
       "      <td>1.0</td>\n",
       "      <td>0.0</td>\n",
       "      <td>0.0</td>\n",
       "      <td>0.0</td>\n",
       "      <td>0.0</td>\n",
       "      <td>...</td>\n",
       "      <td>2.0</td>\n",
       "      <td>0</td>\n",
       "      <td>0</td>\n",
       "      <td>1</td>\n",
       "      <td>0</td>\n",
       "      <td>0</td>\n",
       "      <td>0</td>\n",
       "      <td>0</td>\n",
       "      <td>0</td>\n",
       "      <td>1</td>\n",
       "    </tr>\n",
       "    <tr>\n",
       "      <th>22567</th>\n",
       "      <td>41</td>\n",
       "      <td>21.222111</td>\n",
       "      <td>0</td>\n",
       "      <td>1.0</td>\n",
       "      <td>0.0</td>\n",
       "      <td>0.0</td>\n",
       "      <td>0.0</td>\n",
       "      <td>0.0</td>\n",
       "      <td>0.0</td>\n",
       "      <td>0.0</td>\n",
       "      <td>...</td>\n",
       "      <td>1.0</td>\n",
       "      <td>0</td>\n",
       "      <td>0</td>\n",
       "      <td>1</td>\n",
       "      <td>0</td>\n",
       "      <td>1</td>\n",
       "      <td>0</td>\n",
       "      <td>0</td>\n",
       "      <td>1</td>\n",
       "      <td>0</td>\n",
       "    </tr>\n",
       "    <tr>\n",
       "      <th>22568</th>\n",
       "      <td>62</td>\n",
       "      <td>23.841969</td>\n",
       "      <td>1</td>\n",
       "      <td>1.0</td>\n",
       "      <td>0.0</td>\n",
       "      <td>0.0</td>\n",
       "      <td>0.0</td>\n",
       "      <td>0.0</td>\n",
       "      <td>0.0</td>\n",
       "      <td>0.0</td>\n",
       "      <td>...</td>\n",
       "      <td>1.0</td>\n",
       "      <td>0</td>\n",
       "      <td>0</td>\n",
       "      <td>1</td>\n",
       "      <td>0</td>\n",
       "      <td>0</td>\n",
       "      <td>0</td>\n",
       "      <td>0</td>\n",
       "      <td>0</td>\n",
       "      <td>1</td>\n",
       "    </tr>\n",
       "    <tr>\n",
       "      <th>22569</th>\n",
       "      <td>33</td>\n",
       "      <td>20.058406</td>\n",
       "      <td>1</td>\n",
       "      <td>1.0</td>\n",
       "      <td>1.0</td>\n",
       "      <td>0.0</td>\n",
       "      <td>0.0</td>\n",
       "      <td>0.0</td>\n",
       "      <td>0.0</td>\n",
       "      <td>0.0</td>\n",
       "      <td>...</td>\n",
       "      <td>2.0</td>\n",
       "      <td>0</td>\n",
       "      <td>1</td>\n",
       "      <td>0</td>\n",
       "      <td>0</td>\n",
       "      <td>0</td>\n",
       "      <td>0</td>\n",
       "      <td>0</td>\n",
       "      <td>0</td>\n",
       "      <td>1</td>\n",
       "    </tr>\n",
       "    <tr>\n",
       "      <th>22570</th>\n",
       "      <td>16</td>\n",
       "      <td>17.715229</td>\n",
       "      <td>0</td>\n",
       "      <td>1.0</td>\n",
       "      <td>0.0</td>\n",
       "      <td>0.0</td>\n",
       "      <td>0.0</td>\n",
       "      <td>0.0</td>\n",
       "      <td>0.0</td>\n",
       "      <td>0.0</td>\n",
       "      <td>...</td>\n",
       "      <td>1.0</td>\n",
       "      <td>1</td>\n",
       "      <td>0</td>\n",
       "      <td>1</td>\n",
       "      <td>0</td>\n",
       "      <td>0</td>\n",
       "      <td>0</td>\n",
       "      <td>0</td>\n",
       "      <td>0</td>\n",
       "      <td>1</td>\n",
       "    </tr>\n",
       "  </tbody>\n",
       "</table>\n",
       "<p>22571 rows × 21 columns</p>\n",
       "</div>"
      ],
      "text/plain": [
       "       Patient_Age  Patient_Body_Mass_Index  Patient_Rural_Urban    A    B  \\\n",
       "0               49                18.996774                    0  0.0  0.0   \n",
       "1               32                18.807999                    0  1.0  0.0   \n",
       "2               43                26.737058                    1  1.0  0.0   \n",
       "3                9                21.950668                    0  1.0  0.0   \n",
       "4               44                20.591655                    0  1.0  0.0   \n",
       "...            ...                      ...                  ...  ...  ...   \n",
       "22566           56                29.727765                    0  1.0  0.0   \n",
       "22567           41                21.222111                    0  1.0  0.0   \n",
       "22568           62                23.841969                    1  1.0  0.0   \n",
       "22569           33                20.058406                    1  1.0  1.0   \n",
       "22570           16                17.715229                    0  1.0  0.0   \n",
       "\n",
       "         C    D    E    F    Z  ...  Number_of_prev_cond  Drug_DX1  Drug_DX2  \\\n",
       "0      1.0  0.0  1.0  0.0  0.0  ...                  2.0         0         0   \n",
       "1      0.0  0.0  1.0  0.0  0.0  ...                  2.0         1         0   \n",
       "2      0.0  0.0  0.0  0.0  0.0  ...                  1.0         0         0   \n",
       "3      1.0  0.0  1.0  0.0  0.0  ...                  3.0         0         0   \n",
       "4      1.0  0.0  0.0  0.0  0.0  ...                  2.0         0         0   \n",
       "...    ...  ...  ...  ...  ...  ...                  ...       ...       ...   \n",
       "22566  1.0  0.0  0.0  0.0  0.0  ...                  2.0         0         0   \n",
       "22567  0.0  0.0  0.0  0.0  0.0  ...                  1.0         0         0   \n",
       "22568  0.0  0.0  0.0  0.0  0.0  ...                  1.0         0         0   \n",
       "22569  0.0  0.0  0.0  0.0  0.0  ...                  2.0         0         1   \n",
       "22570  0.0  0.0  0.0  0.0  0.0  ...                  1.0         1         0   \n",
       "\n",
       "       Drug_DX3  Drug_DX4  Drug_DX5  Drug_DX6  Smoker_cannot say  Smoker_no  \\\n",
       "0             1         1         0         0                  0          0   \n",
       "1             0         1         0         0                  0          0   \n",
       "2             0         0         0         1                  0          1   \n",
       "3             0         0         0         1                  0          1   \n",
       "4             1         1         0         0                  0          0   \n",
       "...         ...       ...       ...       ...                ...        ...   \n",
       "22566         1         0         0         0                  0          0   \n",
       "22567         1         0         1         0                  0          1   \n",
       "22568         1         0         0         0                  0          0   \n",
       "22569         0         0         0         0                  0          0   \n",
       "22570         1         0         0         0                  0          0   \n",
       "\n",
       "       Smoker_yes  \n",
       "0               1  \n",
       "1               1  \n",
       "2               0  \n",
       "3               0  \n",
       "4               1  \n",
       "...           ...  \n",
       "22566           1  \n",
       "22567           0  \n",
       "22568           1  \n",
       "22569           1  \n",
       "22570           1  \n",
       "\n",
       "[22571 rows x 21 columns]"
      ]
     },
     "execution_count": 25,
     "metadata": {},
     "output_type": "execute_result"
    }
   ],
   "source": [
    "X_train"
   ]
  },
  {
   "cell_type": "code",
   "execution_count": 26,
   "metadata": {},
   "outputs": [
    {
     "data": {
      "text/html": [
       "<div>\n",
       "<style scoped>\n",
       "    .dataframe tbody tr th:only-of-type {\n",
       "        vertical-align: middle;\n",
       "    }\n",
       "\n",
       "    .dataframe tbody tr th {\n",
       "        vertical-align: top;\n",
       "    }\n",
       "\n",
       "    .dataframe thead th {\n",
       "        text-align: right;\n",
       "    }\n",
       "</style>\n",
       "<table border=\"1\" class=\"dataframe\">\n",
       "  <thead>\n",
       "    <tr style=\"text-align: right;\">\n",
       "      <th></th>\n",
       "      <th>Patient_Age</th>\n",
       "      <th>Patient_Body_Mass_Index</th>\n",
       "      <th>Patient_Rural_Urban</th>\n",
       "      <th>A</th>\n",
       "      <th>B</th>\n",
       "      <th>C</th>\n",
       "      <th>D</th>\n",
       "      <th>E</th>\n",
       "      <th>F</th>\n",
       "      <th>Z</th>\n",
       "      <th>...</th>\n",
       "      <th>Number_of_prev_cond</th>\n",
       "      <th>Drug_DX1</th>\n",
       "      <th>Drug_DX2</th>\n",
       "      <th>Drug_DX3</th>\n",
       "      <th>Drug_DX4</th>\n",
       "      <th>Drug_DX5</th>\n",
       "      <th>Drug_DX6</th>\n",
       "      <th>Smoker_cannot say</th>\n",
       "      <th>Smoker_no</th>\n",
       "      <th>Smoker_yes</th>\n",
       "    </tr>\n",
       "  </thead>\n",
       "  <tbody>\n",
       "    <tr>\n",
       "      <th>0</th>\n",
       "      <td>35</td>\n",
       "      <td>23.775226</td>\n",
       "      <td>0</td>\n",
       "      <td>1.0</td>\n",
       "      <td>0.0</td>\n",
       "      <td>1.0</td>\n",
       "      <td>0.0</td>\n",
       "      <td>0.0</td>\n",
       "      <td>0.0</td>\n",
       "      <td>0.0</td>\n",
       "      <td>...</td>\n",
       "      <td>2.0</td>\n",
       "      <td>0</td>\n",
       "      <td>0</td>\n",
       "      <td>0</td>\n",
       "      <td>0</td>\n",
       "      <td>0</td>\n",
       "      <td>1</td>\n",
       "      <td>0</td>\n",
       "      <td>0</td>\n",
       "      <td>1</td>\n",
       "    </tr>\n",
       "    <tr>\n",
       "      <th>1</th>\n",
       "      <td>47</td>\n",
       "      <td>18.404252</td>\n",
       "      <td>0</td>\n",
       "      <td>1.0</td>\n",
       "      <td>0.0</td>\n",
       "      <td>0.0</td>\n",
       "      <td>1.0</td>\n",
       "      <td>0.0</td>\n",
       "      <td>0.0</td>\n",
       "      <td>0.0</td>\n",
       "      <td>...</td>\n",
       "      <td>2.0</td>\n",
       "      <td>1</td>\n",
       "      <td>0</td>\n",
       "      <td>0</td>\n",
       "      <td>0</td>\n",
       "      <td>1</td>\n",
       "      <td>0</td>\n",
       "      <td>0</td>\n",
       "      <td>0</td>\n",
       "      <td>1</td>\n",
       "    </tr>\n",
       "    <tr>\n",
       "      <th>2</th>\n",
       "      <td>64</td>\n",
       "      <td>27.828730</td>\n",
       "      <td>1</td>\n",
       "      <td>1.0</td>\n",
       "      <td>0.0</td>\n",
       "      <td>0.0</td>\n",
       "      <td>0.0</td>\n",
       "      <td>0.0</td>\n",
       "      <td>0.0</td>\n",
       "      <td>0.0</td>\n",
       "      <td>...</td>\n",
       "      <td>1.0</td>\n",
       "      <td>0</td>\n",
       "      <td>0</td>\n",
       "      <td>1</td>\n",
       "      <td>0</td>\n",
       "      <td>1</td>\n",
       "      <td>0</td>\n",
       "      <td>0</td>\n",
       "      <td>1</td>\n",
       "      <td>0</td>\n",
       "    </tr>\n",
       "    <tr>\n",
       "      <th>3</th>\n",
       "      <td>60</td>\n",
       "      <td>25.143488</td>\n",
       "      <td>1</td>\n",
       "      <td>1.0</td>\n",
       "      <td>0.0</td>\n",
       "      <td>0.0</td>\n",
       "      <td>0.0</td>\n",
       "      <td>0.0</td>\n",
       "      <td>0.0</td>\n",
       "      <td>0.0</td>\n",
       "      <td>...</td>\n",
       "      <td>1.0</td>\n",
       "      <td>1</td>\n",
       "      <td>0</td>\n",
       "      <td>0</td>\n",
       "      <td>0</td>\n",
       "      <td>0</td>\n",
       "      <td>0</td>\n",
       "      <td>0</td>\n",
       "      <td>0</td>\n",
       "      <td>1</td>\n",
       "    </tr>\n",
       "    <tr>\n",
       "      <th>4</th>\n",
       "      <td>9</td>\n",
       "      <td>29.465496</td>\n",
       "      <td>1</td>\n",
       "      <td>1.0</td>\n",
       "      <td>0.0</td>\n",
       "      <td>0.0</td>\n",
       "      <td>0.0</td>\n",
       "      <td>0.0</td>\n",
       "      <td>0.0</td>\n",
       "      <td>0.0</td>\n",
       "      <td>...</td>\n",
       "      <td>1.0</td>\n",
       "      <td>1</td>\n",
       "      <td>1</td>\n",
       "      <td>1</td>\n",
       "      <td>1</td>\n",
       "      <td>0</td>\n",
       "      <td>0</td>\n",
       "      <td>0</td>\n",
       "      <td>1</td>\n",
       "      <td>0</td>\n",
       "    </tr>\n",
       "    <tr>\n",
       "      <th>...</th>\n",
       "      <td>...</td>\n",
       "      <td>...</td>\n",
       "      <td>...</td>\n",
       "      <td>...</td>\n",
       "      <td>...</td>\n",
       "      <td>...</td>\n",
       "      <td>...</td>\n",
       "      <td>...</td>\n",
       "      <td>...</td>\n",
       "      <td>...</td>\n",
       "      <td>...</td>\n",
       "      <td>...</td>\n",
       "      <td>...</td>\n",
       "      <td>...</td>\n",
       "      <td>...</td>\n",
       "      <td>...</td>\n",
       "      <td>...</td>\n",
       "      <td>...</td>\n",
       "      <td>...</td>\n",
       "      <td>...</td>\n",
       "      <td>...</td>\n",
       "    </tr>\n",
       "    <tr>\n",
       "      <th>2503</th>\n",
       "      <td>9</td>\n",
       "      <td>29.856703</td>\n",
       "      <td>0</td>\n",
       "      <td>1.0</td>\n",
       "      <td>0.0</td>\n",
       "      <td>0.0</td>\n",
       "      <td>0.0</td>\n",
       "      <td>1.0</td>\n",
       "      <td>0.0</td>\n",
       "      <td>0.0</td>\n",
       "      <td>...</td>\n",
       "      <td>2.0</td>\n",
       "      <td>0</td>\n",
       "      <td>0</td>\n",
       "      <td>1</td>\n",
       "      <td>0</td>\n",
       "      <td>1</td>\n",
       "      <td>0</td>\n",
       "      <td>0</td>\n",
       "      <td>1</td>\n",
       "      <td>0</td>\n",
       "    </tr>\n",
       "    <tr>\n",
       "      <th>2504</th>\n",
       "      <td>51</td>\n",
       "      <td>21.643459</td>\n",
       "      <td>1</td>\n",
       "      <td>1.0</td>\n",
       "      <td>1.0</td>\n",
       "      <td>0.0</td>\n",
       "      <td>0.0</td>\n",
       "      <td>0.0</td>\n",
       "      <td>0.0</td>\n",
       "      <td>0.0</td>\n",
       "      <td>...</td>\n",
       "      <td>2.0</td>\n",
       "      <td>1</td>\n",
       "      <td>1</td>\n",
       "      <td>0</td>\n",
       "      <td>0</td>\n",
       "      <td>0</td>\n",
       "      <td>0</td>\n",
       "      <td>0</td>\n",
       "      <td>0</td>\n",
       "      <td>1</td>\n",
       "    </tr>\n",
       "    <tr>\n",
       "      <th>2505</th>\n",
       "      <td>35</td>\n",
       "      <td>26.121065</td>\n",
       "      <td>0</td>\n",
       "      <td>1.0</td>\n",
       "      <td>0.0</td>\n",
       "      <td>0.0</td>\n",
       "      <td>0.0</td>\n",
       "      <td>0.0</td>\n",
       "      <td>0.0</td>\n",
       "      <td>0.0</td>\n",
       "      <td>...</td>\n",
       "      <td>1.0</td>\n",
       "      <td>0</td>\n",
       "      <td>0</td>\n",
       "      <td>1</td>\n",
       "      <td>1</td>\n",
       "      <td>0</td>\n",
       "      <td>0</td>\n",
       "      <td>0</td>\n",
       "      <td>0</td>\n",
       "      <td>1</td>\n",
       "    </tr>\n",
       "    <tr>\n",
       "      <th>2506</th>\n",
       "      <td>23</td>\n",
       "      <td>26.064654</td>\n",
       "      <td>0</td>\n",
       "      <td>0.0</td>\n",
       "      <td>0.0</td>\n",
       "      <td>0.0</td>\n",
       "      <td>0.0</td>\n",
       "      <td>0.0</td>\n",
       "      <td>0.0</td>\n",
       "      <td>0.0</td>\n",
       "      <td>...</td>\n",
       "      <td>0.0</td>\n",
       "      <td>0</td>\n",
       "      <td>0</td>\n",
       "      <td>0</td>\n",
       "      <td>0</td>\n",
       "      <td>1</td>\n",
       "      <td>0</td>\n",
       "      <td>0</td>\n",
       "      <td>0</td>\n",
       "      <td>1</td>\n",
       "    </tr>\n",
       "    <tr>\n",
       "      <th>2507</th>\n",
       "      <td>19</td>\n",
       "      <td>19.734781</td>\n",
       "      <td>1</td>\n",
       "      <td>0.0</td>\n",
       "      <td>0.0</td>\n",
       "      <td>0.0</td>\n",
       "      <td>1.0</td>\n",
       "      <td>0.0</td>\n",
       "      <td>0.0</td>\n",
       "      <td>0.0</td>\n",
       "      <td>...</td>\n",
       "      <td>1.0</td>\n",
       "      <td>0</td>\n",
       "      <td>0</td>\n",
       "      <td>0</td>\n",
       "      <td>0</td>\n",
       "      <td>0</td>\n",
       "      <td>1</td>\n",
       "      <td>0</td>\n",
       "      <td>1</td>\n",
       "      <td>0</td>\n",
       "    </tr>\n",
       "  </tbody>\n",
       "</table>\n",
       "<p>2508 rows × 21 columns</p>\n",
       "</div>"
      ],
      "text/plain": [
       "      Patient_Age  Patient_Body_Mass_Index  Patient_Rural_Urban    A    B  \\\n",
       "0              35                23.775226                    0  1.0  0.0   \n",
       "1              47                18.404252                    0  1.0  0.0   \n",
       "2              64                27.828730                    1  1.0  0.0   \n",
       "3              60                25.143488                    1  1.0  0.0   \n",
       "4               9                29.465496                    1  1.0  0.0   \n",
       "...           ...                      ...                  ...  ...  ...   \n",
       "2503            9                29.856703                    0  1.0  0.0   \n",
       "2504           51                21.643459                    1  1.0  1.0   \n",
       "2505           35                26.121065                    0  1.0  0.0   \n",
       "2506           23                26.064654                    0  0.0  0.0   \n",
       "2507           19                19.734781                    1  0.0  0.0   \n",
       "\n",
       "        C    D    E    F    Z  ...  Number_of_prev_cond  Drug_DX1  Drug_DX2  \\\n",
       "0     1.0  0.0  0.0  0.0  0.0  ...                  2.0         0         0   \n",
       "1     0.0  1.0  0.0  0.0  0.0  ...                  2.0         1         0   \n",
       "2     0.0  0.0  0.0  0.0  0.0  ...                  1.0         0         0   \n",
       "3     0.0  0.0  0.0  0.0  0.0  ...                  1.0         1         0   \n",
       "4     0.0  0.0  0.0  0.0  0.0  ...                  1.0         1         1   \n",
       "...   ...  ...  ...  ...  ...  ...                  ...       ...       ...   \n",
       "2503  0.0  0.0  1.0  0.0  0.0  ...                  2.0         0         0   \n",
       "2504  0.0  0.0  0.0  0.0  0.0  ...                  2.0         1         1   \n",
       "2505  0.0  0.0  0.0  0.0  0.0  ...                  1.0         0         0   \n",
       "2506  0.0  0.0  0.0  0.0  0.0  ...                  0.0         0         0   \n",
       "2507  0.0  1.0  0.0  0.0  0.0  ...                  1.0         0         0   \n",
       "\n",
       "      Drug_DX3  Drug_DX4  Drug_DX5  Drug_DX6  Smoker_cannot say  Smoker_no  \\\n",
       "0            0         0         0         1                  0          0   \n",
       "1            0         0         1         0                  0          0   \n",
       "2            1         0         1         0                  0          1   \n",
       "3            0         0         0         0                  0          0   \n",
       "4            1         1         0         0                  0          1   \n",
       "...        ...       ...       ...       ...                ...        ...   \n",
       "2503         1         0         1         0                  0          1   \n",
       "2504         0         0         0         0                  0          0   \n",
       "2505         1         1         0         0                  0          0   \n",
       "2506         0         0         1         0                  0          0   \n",
       "2507         0         0         0         1                  0          1   \n",
       "\n",
       "      Smoker_yes  \n",
       "0              1  \n",
       "1              1  \n",
       "2              0  \n",
       "3              1  \n",
       "4              0  \n",
       "...          ...  \n",
       "2503           0  \n",
       "2504           1  \n",
       "2505           1  \n",
       "2506           1  \n",
       "2507           0  \n",
       "\n",
       "[2508 rows x 21 columns]"
      ]
     },
     "execution_count": 26,
     "metadata": {},
     "output_type": "execute_result"
    }
   ],
   "source": [
    "X_test"
   ]
  },
  {
   "cell_type": "markdown",
   "metadata": {
    "tags": []
   },
   "source": [
    "## SVM classification"
   ]
  },
  {
   "cell_type": "code",
   "execution_count": 27,
   "metadata": {},
   "outputs": [
    {
     "name": "stdout",
     "output_type": "stream",
     "text": [
      "Accuracy score for train data: 0.7570333613929379\n"
     ]
    }
   ],
   "source": [
    "svm_classifier = SVC()\n",
    "svm_classifier.fit(X_train, Y_train)\n",
    "print('Accuracy score for train data:', accuracy_score(svm_classifier.predict(X_train), Y_train))"
   ]
  },
  {
   "cell_type": "code",
   "execution_count": 28,
   "metadata": {},
   "outputs": [
    {
     "data": {
      "text/plain": [
       "array([0, 1, 1, ..., 1, 1, 1], dtype=int64)"
      ]
     },
     "execution_count": 28,
     "metadata": {},
     "output_type": "execute_result"
    }
   ],
   "source": [
    "Y_pred_svm = svm_classifier.predict(X_test)\n",
    "Y_pred_svm"
   ]
  },
  {
   "cell_type": "code",
   "execution_count": 29,
   "metadata": {},
   "outputs": [],
   "source": [
    "# param_grid = {'C': list(np.linspace(1, 1000, 5)),\n",
    "#                'gamma': [0.00003, 0.1, 0.01, 1],\n",
    "#                'kernel': ['rbf']}\n",
    "# grid = GridSearchCV(SVC(), param_grid, refit = True, verbose = 3)\n",
    "# grid.fit(X_train, Y_train)"
   ]
  },
  {
   "cell_type": "code",
   "execution_count": 30,
   "metadata": {},
   "outputs": [],
   "source": [
    "# Y_pred_svm2 = grid.best_estimator_.predict(X_test)"
   ]
  },
  {
   "cell_type": "markdown",
   "metadata": {
    "tags": []
   },
   "source": [
    "## Decision Tree Classification"
   ]
  },
  {
   "cell_type": "code",
   "execution_count": 31,
   "metadata": {},
   "outputs": [
    {
     "name": "stdout",
     "output_type": "stream",
     "text": [
      "Accuracy score for train data: 0.7188427628372691\n"
     ]
    }
   ],
   "source": [
    "dtc = DecisionTreeClassifier(max_leaf_nodes=5)\n",
    "dtc.fit(X_train, Y_train)\n",
    "print('Accuracy score for train data:', accuracy_score(dtc.predict(X_train), Y_train))"
   ]
  },
  {
   "cell_type": "code",
   "execution_count": 32,
   "metadata": {},
   "outputs": [
    {
     "data": {
      "text/plain": [
       "array([0, 1, 1, ..., 1, 1, 0], dtype=int64)"
      ]
     },
     "execution_count": 32,
     "metadata": {},
     "output_type": "execute_result"
    }
   ],
   "source": [
    "Y_pred_dtc = dtc.predict(X_test)\n",
    "Y_pred_dtc"
   ]
  },
  {
   "cell_type": "code",
   "execution_count": 33,
   "metadata": {},
   "outputs": [
    {
     "data": {
      "text/plain": [
       "[]"
      ]
     },
     "execution_count": 33,
     "metadata": {},
     "output_type": "execute_result"
    },
    {
     "data": {
      "image/png": "[encoded data removed]",
      "text/plain": [
       "<Figure size 432x288 with 1 Axes>"
      ]
     },
     "metadata": {
      "needs_background": "light"
     },
     "output_type": "display_data"
    }
   ],
   "source": [
    "from sklearn.tree import plot_tree\n",
    "plot_tree(dtc)\n",
    "plt.plot()"
   ]
  },
  {
   "cell_type": "code",
   "execution_count": 34,
   "metadata": {},
   "outputs": [
    {
     "name": "stdout",
     "output_type": "stream",
     "text": [
      "Accuracy score for train data: 0.966284169952594\n"
     ]
    }
   ],
   "source": [
    "bc = BaggingClassifier(base_estimator=DecisionTreeClassifier(), n_estimators=100)\n",
    "bc.fit(X_train, Y_train)\n",
    "print('Accuracy score for train data:', accuracy_score(bc.predict(X_train), Y_train))"
   ]
  },
  {
   "cell_type": "code",
   "execution_count": 35,
   "metadata": {},
   "outputs": [
    {
     "data": {
      "text/plain": [
       "array([1, 1, 1, ..., 1, 1, 1], dtype=int64)"
      ]
     },
     "execution_count": 35,
     "metadata": {},
     "output_type": "execute_result"
    }
   ],
   "source": [
    "Y_pred_bc = bc.predict(X_test)\n",
    "Y_pred_bc"
   ]
  },
  {
   "cell_type": "markdown",
   "metadata": {
    "tags": []
   },
   "source": [
    "## Random Forest Classification"
   ]
  },
  {
   "cell_type": "code",
   "execution_count": 36,
   "metadata": {},
   "outputs": [
    {
     "name": "stdout",
     "output_type": "stream",
     "text": [
      "Accuracy score for train data: 0.7499446192016304\n"
     ]
    }
   ],
   "source": [
    "rf = RandomForestClassifier(max_leaf_nodes=8\n",
    "                            , n_estimators=50)\n",
    "rf.fit(X_train, Y_train)\n",
    "print('Accuracy score for train data:', accuracy_score(rf.predict(X_train), Y_train))"
   ]
  },
  {
   "cell_type": "code",
   "execution_count": 37,
   "metadata": {},
   "outputs": [
    {
     "data": {
      "text/plain": [
       "array([0, 1, 1, ..., 1, 1, 1], dtype=int64)"
      ]
     },
     "execution_count": 37,
     "metadata": {},
     "output_type": "execute_result"
    }
   ],
   "source": [
    "Y_pred_rf = rf.predict(X_test)\n",
    "Y_pred_rf"
   ]
  },
  {
   "cell_type": "markdown",
   "metadata": {
    "tags": []
   },
   "source": [
    "## Boosting"
   ]
  },
  {
   "cell_type": "code",
   "execution_count": 38,
   "metadata": {},
   "outputs": [
    {
     "name": "stdout",
     "output_type": "stream",
     "text": [
      "Accuracy score for train data: 0.8144964777812237\n"
     ]
    }
   ],
   "source": [
    "adac = AdaBoostClassifier(base_estimator=DecisionTreeClassifier(max_leaf_nodes=6, max_depth=2), n_estimators=100)\n",
    "adac.fit(X_train, Y_train)\n",
    "print('Accuracy score for train data:', accuracy_score(adac.predict(X_train), Y_train))"
   ]
  },
  {
   "cell_type": "code",
   "execution_count": 39,
   "metadata": {},
   "outputs": [
    {
     "data": {
      "text/plain": [
       "array([1, 0, 1, ..., 1, 1, 1], dtype=int64)"
      ]
     },
     "execution_count": 39,
     "metadata": {},
     "output_type": "execute_result"
    }
   ],
   "source": [
    "Y_pred_adac = adac.predict(X_test)\n",
    "Y_pred_adac"
   ]
  },
  {
   "cell_type": "markdown",
   "metadata": {},
   "source": [
    "## LGBM Classification"
   ]
  },
  {
   "cell_type": "code",
   "execution_count": 40,
   "metadata": {},
   "outputs": [
    {
     "name": "stdout",
     "output_type": "stream",
     "text": [
      "Accuracy score for train data:  0.9165743653360506\n"
     ]
    }
   ],
   "source": [
    "clf = lgb.LGBMClassifier(n_estimators=1000, learning_rate=0.1)\n",
    "clf.fit(X_train, Y_train)\n",
    "print(\"Accuracy score for train data: \", accuracy_score(clf.predict(X_train), Y_train))"
   ]
  },
  {
   "cell_type": "code",
   "execution_count": 41,
   "metadata": {},
   "outputs": [
    {
     "data": {
      "text/plain": [
       "array([1, 1, 1, ..., 1, 1, 1], dtype=int64)"
      ]
     },
     "execution_count": 41,
     "metadata": {},
     "output_type": "execute_result"
    }
   ],
   "source": [
    "Y_pred_lgb = clf.predict(X_test)\n",
    "Y_pred_lgb"
   ]
  },
  {
   "cell_type": "code",
   "execution_count": 45,
   "metadata": {},
   "outputs": [],
   "source": [
    "result = pd.DataFrame(data={'Survived_1_year': Y_pred_lgb}, columns = ['Survived_1_year'])"
   ]
  },
  {
   "cell_type": "markdown",
   "metadata": {},
   "source": [
    "---"
   ]
  },
  {
   "cell_type": "code",
   "execution_count": 48,
   "metadata": {},
   "outputs": [
    {
     "name": "stdout",
     "output_type": "stream",
     "text": [
      "Accuracy score for test data, SVM:  0.7575757575757576\n",
      "Accuracy score for test data, Decision Tree:  0.7129186602870813\n",
      "Accuracy score for test data, Random Forest:  0.7496012759170654\n",
      "Accuracy score for test data, Bagging:  0.7811004784688995\n",
      "Accuracy score for test data: Boosting 0.7830940988835726\n",
      "Accuracy score for test data: LGBM 0.7882775119617225\n"
     ]
    }
   ],
   "source": [
    "Y_test = pd.read_csv('y_test.csv')\n",
    "\n",
    "print(\"Accuracy score for test data, SVM: \", accuracy_score(Y_pred_svm, Y_test))\n",
    "print(\"Accuracy score for test data, Decision Tree: \", accuracy_score(Y_pred_dtc, Y_test))\n",
    "print(\"Accuracy score for test data, Random Forest: \", accuracy_score(Y_pred_rf, Y_test))\n",
    "print(\"Accuracy score for test data, Bagging: \", accuracy_score(Y_pred_bc, Y_test))\n",
    "print(\"Accuracy score for test data: Boosting\", accuracy_score(Y_pred_adac, Y_test))\n",
    "print(\"Accuracy score for test data: LGBM\", accuracy_score(Y_pred_lgb, Y_test))"
   ]
  },
  {
   "cell_type": "code",
   "execution_count": 50,
   "metadata": {},
   "outputs": [],
   "source": [
    "result.to_csv('predictions.csv', index=False)"
   ]
  },
  {
   "cell_type": "code",
   "execution_count": null,
   "metadata": {},
   "outputs": [],
   "source": []
  }
 ],
 "metadata": {
  "kernelspec": {
   "display_name": "Python 3",
   "language": "python",
   "name": "python3"
  },
  "language_info": {
   "codemirror_mode": {
    "name": "ipython",
    "version": 3
   },
   "file_extension": ".py",
   "mimetype": "text/x-python",
   "name": "python",
   "nbconvert_exporter": "python",
   "pygments_lexer": "ipython3",
   "version": "3.8.5"
  }
 },
 "nbformat": 4,
 "nbformat_minor": 4
}
