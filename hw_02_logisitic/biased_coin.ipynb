{
 "cells": [
  {
   "cell_type": "markdown",
   "metadata": {
    "id": "rFuWXmW9g6Jm"
   },
   "source": [
    "# Probabilistic Inference"
   ]
  },
  {
   "cell_type": "code",
   "execution_count": 1,
   "metadata": {
    "executionInfo": {
     "elapsed": 9,
     "status": "ok",
     "timestamp": 1641810228243,
     "user": {
      "displayName": "Tigran Mamikonyan",
      "photoUrl": "https://lh3.googleusercontent.com/a/default-user=s64",
      "userId": "05044098470680930005"
     },
     "user_tz": -240
    },
    "id": "XFhe1-4_g6Jr"
   },
   "outputs": [],
   "source": [
    "import numpy as np\n",
    "import matplotlib.pyplot as plt\n",
    "\n",
    "%matplotlib inline"
   ]
  },
  {
   "cell_type": "markdown",
   "metadata": {
    "id": "suu29ukhg6Jt"
   },
   "source": [
    "## Simulating data\n",
    "The following function simulates flipping a biased coin. "
   ]
  },
  {
   "cell_type": "code",
   "execution_count": 2,
   "metadata": {
    "executionInfo": {
     "elapsed": 9,
     "status": "ok",
     "timestamp": 1641810228244,
     "user": {
      "displayName": "Tigran Mamikonyan",
      "photoUrl": "https://lh3.googleusercontent.com/a/default-user=s64",
      "userId": "05044098470680930005"
     },
     "user_tz": -240
    },
    "id": "wS6WxuK2g6Jt"
   },
   "outputs": [],
   "source": [
    "# This function is given, nothing to do here.\n",
    "def simulate_data(num_samples, tails_proba):\n",
    "    \"\"\"Simulate a sequence of i.i.d. coin flips.\n",
    "    \n",
    "    Tails are denoted as 1 and heads are denoted as 0.\n",
    "    \n",
    "    Parameters\n",
    "    ----------\n",
    "    num_samples : int\n",
    "        Number of samples to generate.\n",
    "    tails_proba : float in range (0, 1)\n",
    "        Probability of observing tails.\n",
    "    \n",
    "    Returns\n",
    "    -------\n",
    "    samples : array, shape (num_samples)\n",
    "        Outcomes of simulated coin flips. Tails is 1 and heads is 0.\n",
    "    \"\"\"\n",
    "    return np.random.choice([0, 1], size=(num_samples), p=[1 - tails_proba, tails_proba])"
   ]
  },
  {
   "cell_type": "code",
   "execution_count": 3,
   "metadata": {
    "colab": {
     "base_uri": "https://localhost:8080/"
    },
    "executionInfo": {
     "elapsed": 8,
     "status": "ok",
     "timestamp": 1641810228244,
     "user": {
      "displayName": "Tigran Mamikonyan",
      "photoUrl": "https://lh3.googleusercontent.com/a/default-user=s64",
      "userId": "05044098470680930005"
     },
     "user_tz": -240
    },
    "id": "ME_U0zgSg6Ju",
    "outputId": "bbe6342c-701d-4973-e441-cfccbb3159c6"
   },
   "outputs": [
    {
     "name": "stdout",
     "output_type": "stream",
     "text": [
      "[1 0 0 1 1 1 1 1 1 1 1 1 1 0 1 1 0 0 1 1]\n"
     ]
    }
   ],
   "source": [
    "np.random.seed(123)  # for reproducibility\n",
    "num_samples = 20\n",
    "tails_proba = 0.7 # theta\n",
    "samples = simulate_data(num_samples, tails_proba)\n",
    "print(samples)"
   ]
  },
  {
   "cell_type": "markdown",
   "metadata": {
    "id": "aN05aBi2g6Jw"
   },
   "source": [
    "## Task 1: Compute $\\log p(\\mathcal{D} \\mid \\theta)$ for different values of $\\theta$"
   ]
  },
  {
   "cell_type": "code",
   "execution_count": 4,
   "metadata": {
    "id": "IHD-Wih5g6Jw"
   },
   "outputs": [],
   "source": [
    "def compute_log_likelihood(theta, samples):\n",
    "    \"\"\"Compute log p(D | theta) for the given values of theta.\n",
    "    \n",
    "    Parameters\n",
    "    ----------\n",
    "    theta : array, shape (num_points)\n",
    "        Values of theta for which it's necessary to evaluate the log-likelihood.\n",
    "    samples : array, shape (num_samples)\n",
    "        Outcomes of simulated coin flips. Tails is 1 and heads is 0.\n",
    "    \n",
    "    Returns\n",
    "    -------\n",
    "    log_likelihood : array, shape (num_points)\n",
    "        Values of log-likelihood for each value in theta.\n",
    "    \"\"\"\n",
    "    ones = sum(samples)\n",
    "    zeros = len(samples)-sum(samples)\n",
    "    return ones * np.log(theta) + zeros * np.log(1 - theta)"
   ]
  },
  {
   "cell_type": "code",
   "execution_count": 5,
   "metadata": {
    "id": "RVvM5Wn3g6Jx"
   },
   "outputs": [
    {
     "data": {
      "text/plain": [
       "<matplotlib.legend.Legend at 0x3ddcfd0>"
      ]
     },
     "execution_count": 5,
     "metadata": {},
     "output_type": "execute_result"
    },
    {
     "data": {
      "image/png": "[encoded data removed]",
      "text/plain": [
       "<Figure size 432x288 with 1 Axes>"
      ]
     },
     "metadata": {
      "needs_background": "light"
     },
     "output_type": "display_data"
    }
   ],
   "source": [
    "x = np.linspace(1e-5, 1-1e-5, 1000)\n",
    "log_likelihood = compute_log_likelihood(x, samples)\n",
    "likelihood = np.exp(log_likelihood)\n",
    "plt.plot(x, likelihood, label='likelihood', c='purple')\n",
    "plt.legend()"
   ]
  },
  {
   "cell_type": "code",
   "execution_count": 6,
   "metadata": {
    "id": "Uq0fMerxg6Jy"
   },
   "outputs": [
    {
     "name": "stdout",
     "output_type": "stream",
     "text": [
      "Integral = 3.068e-06\n"
     ]
    }
   ],
   "source": [
    "# likelihood function doesn't define a probability distribution over theta. To show that we approximate its integral\n",
    "# 1.0 is the length of the interval over which we are integrating p(D | theta)\n",
    "int_likelihood = 1.0 * np.mean(likelihood)\n",
    "print(f'Integral = {int_likelihood:.4}')"
   ]
  },
  {
   "cell_type": "markdown",
   "metadata": {
    "id": "BXdPHjVNg6Jz"
   },
   "source": [
    "## Task 2: Compute $\\theta_{MLE}$"
   ]
  },
  {
   "cell_type": "code",
   "execution_count": 7,
   "metadata": {
    "id": "CLf-uP-6g6J0"
   },
   "outputs": [],
   "source": [
    "def compute_theta_mle(samples):\n",
    "    \"\"\"Compute theta_MLE for the given data.\n",
    "    \n",
    "    Parameters\n",
    "    ----------\n",
    "    samples : array, shape (num_samples)\n",
    "        Outcomes of simulated coin flips. Tails is 1 and heads is 0.\n",
    "    \n",
    "    Returns\n",
    "    -------\n",
    "    theta_mle : float\n",
    "        Maximum likelihood estimate of theta.\n",
    "    \"\"\"\n",
    "    ones = sum(samples)\n",
    "    return ones/len(samples)"
   ]
  },
  {
   "cell_type": "code",
   "execution_count": 8,
   "metadata": {
    "id": "w4YRTgF_g6J0"
   },
   "outputs": [
    {
     "name": "stdout",
     "output_type": "stream",
     "text": [
      "theta_mle = 0.750\n"
     ]
    }
   ],
   "source": [
    "theta_mle = compute_theta_mle(samples)\n",
    "print(f'theta_mle = {theta_mle:.3f}')"
   ]
  }
 ],
 "metadata": {
  "colab": {
   "name": "biased_coin.ipynb",
   "provenance": []
  },
  "kernelspec": {
   "display_name": "Python 3",
   "language": "python",
   "name": "python3"
  },
  "language_info": {
   "codemirror_mode": {
    "name": "ipython",
    "version": 3
   },
   "file_extension": ".py",
   "mimetype": "text/x-python",
   "name": "python",
   "nbconvert_exporter": "python",
   "pygments_lexer": "ipython3",
   "version": "3.8.5"
  },
  "toc": {
   "colors": {
    "hover_highlight": "#DAA520",
    "navigate_num": "#000000",
    "navigate_text": "#333333",
    "running_highlight": "#FF0000",
    "selected_highlight": "#FFD700",
    "sidebar_border": "#EEEEEE",
    "wrapper_background": "#FFFFFF"
   },
   "moveMenuLeft": true,
   "nav_menu": {
    "height": "207px",
    "width": "252px"
   },
   "navigate_menu": true,
   "number_sections": true,
   "sideBar": true,
   "threshold": 4,
   "toc_cell": false,
   "toc_section_display": "block",
   "toc_window_display": false,
   "widenNotebook": false
  }
 },
 "nbformat": 4,
 "nbformat_minor": 4
}
