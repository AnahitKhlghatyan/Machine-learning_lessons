{
 "cells": [
  {
   "cell_type": "markdown",
   "metadata": {},
   "source": [
    "\"\"\" Dictionaries, Sets \"\"\""
   ]
  },
  {
   "cell_type": "code",
   "execution_count": null,
   "metadata": {},
   "outputs": [],
   "source": [
    "# 3. Write a script to print a dictionary where the keys are numbers between 1 and 15 (both included)\n",
    "# and the values are square of keys. Do this using loops and comprehensions.\n",
    "# Գրել ծրագիր, որը կստեղծի և կտպի dictionary, որի բանալիները [1,15] թվերն են, իսկ արժեքները դրանց քառակուսիները։\n",
    "# Առաջադրանքը կատարել և՛ loop-երով, և՛ comprehension—ներով։"
   ]
  },
  {
   "cell_type": "code",
   "execution_count": 1,
   "metadata": {},
   "outputs": [
    {
     "name": "stdout",
     "output_type": "stream",
     "text": [
      "{1: 1, 2: 4, 3: 9, 4: 16, 5: 25, 6: 36, 7: 49, 8: 64, 9: 81, 10: 100, 11: 121, 12: 144, 13: 169, 14: 196, 15: 225}\n"
     ]
    }
   ],
   "source": [
    "d = {}\n",
    "for i in range(1,16):\n",
    "    d[i] = i**2\n",
    "print(d)"
   ]
  },
  {
   "cell_type": "code",
   "execution_count": 21,
   "metadata": {},
   "outputs": [
    {
     "name": "stdout",
     "output_type": "stream",
     "text": [
      "{1: 1, 2: 4, 3: 9, 4: 16, 5: 25, 6: 36, 7: 49, 8: 64, 9: 81, 10: 100, 11: 121, 12: 144, 13: 169, 14: 196, 15: 225}\n"
     ]
    }
   ],
   "source": [
    "d = {i:i**2 for i in range(1,16)}\n",
    "print(d)"
   ]
  },
  {
   "cell_type": "code",
   "execution_count": 22,
   "metadata": {},
   "outputs": [],
   "source": [
    "# 4. Create 2 sets and find their symmetric difference without using the dedicated method.\n",
    "# Ստեղծել 2 սեթ և առանց symmetric_difference-ը գործածելու գտնել դրանց սիմետրիկ տարբերությունը։"
   ]
  },
  {
   "cell_type": "code",
   "execution_count": 38,
   "metadata": {},
   "outputs": [
    {
     "name": "stdout",
     "output_type": "stream",
     "text": [
      "{1, 2, 5, 6}\n"
     ]
    }
   ],
   "source": [
    "s1 = {1, 2, 3, 4}\n",
    "s2 = {3, 4, 5, 6}\n",
    "s_dif = s1-s2 | s2-s1\n",
    "print(s_dif)"
   ]
  },
  {
   "cell_type": "code",
   "execution_count": 39,
   "metadata": {},
   "outputs": [],
   "source": [
    "# 5․ Write a Python program to remove the intersection of a 2nd set from the 1st set.\n",
    "# Գրել ծրագիր, որը կջնջի սեթերի հատումն առաջին սեթից։"
   ]
  },
  {
   "cell_type": "code",
   "execution_count": 1,
   "metadata": {},
   "outputs": [
    {
     "name": "stdout",
     "output_type": "stream",
     "text": [
      "{1, 2}\n"
     ]
    }
   ],
   "source": [
    "s1 = {1, 2, 3, 4}\n",
    "s2 = {3, 4, 5, 6}\n",
    "s_new = s1 - s2\n",
    "print(s_new)"
   ]
  },
  {
   "cell_type": "markdown",
   "metadata": {},
   "source": [
    "\"\"\" Functions \"\"\""
   ]
  },
  {
   "cell_type": "code",
   "execution_count": 45,
   "metadata": {},
   "outputs": [],
   "source": [
    "# 1.  Given an array of integers nums and an integer target, return indices of the two numbers such that they add up to\n",
    "# target."
   ]
  },
  {
   "cell_type": "code",
   "execution_count": 1,
   "metadata": {},
   "outputs": [],
   "source": [
    "def target(lst, target):\n",
    "    for i in range(len(lst)):\n",
    "        for j in range(len(lst)):\n",
    "            if i != j and lst[i] + lst[j] == target:\n",
    "                return i,j"
   ]
  },
  {
   "cell_type": "code",
   "execution_count": 192,
   "metadata": {},
   "outputs": [
    {
     "data": {
      "text/plain": [
       "(0, 2)"
      ]
     },
     "execution_count": 192,
     "metadata": {},
     "output_type": "execute_result"
    }
   ],
   "source": [
    "target([1,3,4,6],5)"
   ]
  },
  {
   "cell_type": "code",
   "execution_count": 3,
   "metadata": {},
   "outputs": [],
   "source": [
    "# 2․ You are given an array prices where prices[i] is the price of a given stock on the ith day.\n",
    "#\n",
    "# You want to maximize your profit by choosing a single day to buy one stock and choosing a different day in the future\n",
    "# to sell that stock.\n",
    "#\n",
    "# Return the maximum profit you can achieve from this transaction. If you cannot achieve any profit, return 0."
   ]
  },
  {
   "cell_type": "code",
   "execution_count": 6,
   "metadata": {},
   "outputs": [],
   "source": [
    "def profit(lst):\n",
    "    profit = 0\n",
    "    for i in range(len(lst)):\n",
    "        for j in range(i+1,len(lst)):\n",
    "            if lst[j] - lst[i] > profit:\n",
    "                profit = lst[j] - lst[i]\n",
    "    return profit"
   ]
  },
  {
   "cell_type": "code",
   "execution_count": 7,
   "metadata": {},
   "outputs": [
    {
     "data": {
      "text/plain": [
       "6"
      ]
     },
     "execution_count": 7,
     "metadata": {},
     "output_type": "execute_result"
    }
   ],
   "source": [
    "lst = [5,8,4,3,9,2]\n",
    "profit(lst)"
   ]
  },
  {
   "cell_type": "code",
   "execution_count": 4,
   "metadata": {},
   "outputs": [],
   "source": [
    "# 3. Given an integer array nums, return an array answer such that answer[i] is equal to the product of all the elements\n",
    "# of nums except nums[i].\n",
    "#\n",
    "# The product of any prefix or suffix of nums is guaranteed to fit in a 32-bit integer.\n",
    "#\n",
    "# (Optional) You must write an algorithm that runs in O(n) time and without using the division operation."
   ]
  },
  {
   "cell_type": "code",
   "execution_count": 11,
   "metadata": {},
   "outputs": [],
   "source": [
    "def product(lst):\n",
    "    res = []\n",
    "    p = 1\n",
    "    for i in lst:\n",
    "        res.append(p)\n",
    "        p *= i\n",
    "    \n",
    "    p = 1\n",
    "    for i in reversed(range(len(lst))):\n",
    "        res[i] *= p\n",
    "        p *= lst[i]\n",
    "    \n",
    "    return res"
   ]
  },
  {
   "cell_type": "code",
   "execution_count": 12,
   "metadata": {},
   "outputs": [
    {
     "data": {
      "text/plain": [
       "[120, 80, 48, 60, 120]"
      ]
     },
     "execution_count": 12,
     "metadata": {},
     "output_type": "execute_result"
    }
   ],
   "source": [
    "product([2,3,5,4,2])"
   ]
  },
  {
   "cell_type": "code",
   "execution_count": 99,
   "metadata": {},
   "outputs": [],
   "source": [
    "def product(lst):\n",
    "    lst1 = lst.copy()\n",
    "    lst2 = []\n",
    "\n",
    "    for i in range(len(lst)):\n",
    "        lst1[i] = 1\n",
    "        lst2.append(lst1)\n",
    "        lst1 = lst.copy()\n",
    "\n",
    "    lst3 = []\n",
    "    for i in lst2:\n",
    "        p = 1\n",
    "        for j in i:\n",
    "            p *= j\n",
    "        lst3.append(p)\n",
    "    return lst3"
   ]
  },
  {
   "cell_type": "code",
   "execution_count": 100,
   "metadata": {},
   "outputs": [
    {
     "data": {
      "text/plain": [
       "[120, 80, 48, 60, 120]"
      ]
     },
     "execution_count": 100,
     "metadata": {},
     "output_type": "execute_result"
    }
   ],
   "source": [
    "product([2,3,5,4,2])"
   ]
  },
  {
   "cell_type": "code",
   "execution_count": 8,
   "metadata": {},
   "outputs": [],
   "source": [
    "def product(lst):\n",
    "    lst1 = []\n",
    "    for i in range(len(lst)):\n",
    "        p = 1\n",
    "        for j in range(len(lst)):\n",
    "            if i!= j:\n",
    "                p *= lst[j]\n",
    "        lst1.append(p)\n",
    "    return lst1"
   ]
  },
  {
   "cell_type": "code",
   "execution_count": 9,
   "metadata": {},
   "outputs": [
    {
     "data": {
      "text/plain": [
       "[120, 80, 48, 60, 120]"
      ]
     },
     "execution_count": 9,
     "metadata": {},
     "output_type": "execute_result"
    }
   ],
   "source": [
    "product([2,3,5,4,2])"
   ]
  },
  {
   "cell_type": "code",
   "execution_count": 164,
   "metadata": {},
   "outputs": [],
   "source": [
    "# 4. You are climbing a staircase. It takes n steps to reach the top.\n",
    "#\n",
    "# Each time you can either climb 1 or 2 steps. In how many distinct ways can you climb to the top?\n",
    "# Example:\n",
    "#   Input: n = 3\n",
    "#   Output: 3\n",
    "#   Explanation: There are three ways to climb to the top.\n",
    "#     1. 1 step + 1 step + 1 step\n",
    "#     2. 1 step + 2 steps\n",
    "#     3. 2 steps + 1 step"
   ]
  },
  {
   "cell_type": "code",
   "execution_count": 189,
   "metadata": {},
   "outputs": [],
   "source": [
    "def s_case(n):\n",
    "    import math\n",
    "    k = 0\n",
    "    case = 0\n",
    "    while k <= n-k:\n",
    "        case += math.factorial(n-k)//(math.factorial(k)*math.factorial(n-k-k))     # Cn-k,k\n",
    "        k += 1\n",
    "    return case"
   ]
  },
  {
   "cell_type": "code",
   "execution_count": 190,
   "metadata": {},
   "outputs": [
    {
     "data": {
      "text/plain": [
       "34"
      ]
     },
     "execution_count": 190,
     "metadata": {},
     "output_type": "execute_result"
    }
   ],
   "source": [
    "s_case(8)"
   ]
  },
  {
   "cell_type": "code",
   "execution_count": 6,
   "metadata": {},
   "outputs": [],
   "source": [
    "# 5. Hangman!\n",
    "# Create the hangman game. A list containing random words is provided. Each time the program runs, one random word must\n",
    "# be selected. Then the user will try to guess the letters of the word. They will have lives equal to the length of the\n",
    "# word. Now, about the formatting. Say we have the word car. The program must then output underscores equal to the\n",
    "# length of the word.\n",
    "\n",
    "# Guess a letter!\n",
    "# _ _ _\n",
    "#\n",
    "# if we input 'a', the program will output:\n",
    "\n",
    "# Guess a letter!\n",
    "# _ a _\n",
    "\n",
    "# and so on.\n",
    "\n",
    "# Ստեղծում ենք մեր սեփական \"Կախաղան\" խաղը։ Ծրագիրը պահելու է պատահական բառ տրված \"random_words\" ֆայլից: Խաղացողը պետք է\n",
    "# գուշակի տառ։ Եթե տառը բառի մեջ գոյություն չունի, խաղացողը կորցնում է \"կյանք\" (կյանքերը բառի երկարության չափ են): Եթե\n",
    "# տառը կա, այն բացվում է և խաղացողը անցնում է հաջորդ տառը գուշակելուն։ Ծրագրի աշխատանքը պետք է հետևյալ տեսքն ունենա։\n",
    "# Ենթադրենք բառը car է։ Կոնսոլում հետևյալ տեսքստն ենք տեսնելու\n",
    "\n",
    "# Guess a letter!\n",
    "# _ _ _\n",
    "\n",
    "# Եթե ներմուծենք a, կստանանք հետևյալ տեսքստը\n",
    "\n",
    "# Guess a letter!\n",
    "# _ a _\n",
    "\n",
    "# և այդպես շարունակ։ Եթե խաղացողի կյանքերը սպառվեն, տեղեկացրեք նրան և խաղից դուրս եկեք։ Հաղթելու դեպքում տպեք\n",
    "# շնորհավորանք"
   ]
  },
  {
   "cell_type": "code",
   "execution_count": 3,
   "metadata": {},
   "outputs": [],
   "source": [
    "def hangman():\n",
    "    import random\n",
    "\n",
    "    with open(\"random_words.txt\", \"r\") as file:\n",
    "        allText = file.read()\n",
    "        words = list(map(str, allText.split(', ')))\n",
    "        word = random.choice(words)\n",
    "\n",
    "\n",
    "    lives = len(word)\n",
    "    lst = ['_'] *len(word)\n",
    "    print(f'You have {lives} chances to make a mistake.Let\\'s start.','_ '*len(word))\n",
    "\n",
    "    while lives > 0:\n",
    "        let = input('Guess a letter!')\n",
    "\n",
    "        if let in word:\n",
    "            for i in range(len(word)):\n",
    "                if word[i] == let:\n",
    "                    lst[i] = let\n",
    "            guess = ' '.join(lst)\n",
    "            print(guess)\n",
    "            if guess.replace(' ','') == word:\n",
    "                print('Congrats, you win!')\n",
    "                break\n",
    "\n",
    "        else:\n",
    "            lives -= 1\n",
    "            print(f'You lost one life, there are(is) {lives} left')\n",
    "            if lives == 0:\n",
    "                print('Game over!')"
   ]
  },
  {
   "cell_type": "code",
   "execution_count": 4,
   "metadata": {},
   "outputs": [
    {
     "name": "stdout",
     "output_type": "stream",
     "text": [
      "You have 7 chances to make a mistake.Let's start. _ _ _ _ _ _ _ \n"
     ]
    },
    {
     "name": "stdin",
     "output_type": "stream",
     "text": [
      "Guess a letter! a\n"
     ]
    },
    {
     "name": "stdout",
     "output_type": "stream",
     "text": [
      "a _ _ _ _ _ _\n"
     ]
    },
    {
     "name": "stdin",
     "output_type": "stream",
     "text": [
      "Guess a letter! c\n"
     ]
    },
    {
     "name": "stdout",
     "output_type": "stream",
     "text": [
      "a _ _ _ c _ _\n"
     ]
    },
    {
     "name": "stdin",
     "output_type": "stream",
     "text": [
      "Guess a letter! l\n"
     ]
    },
    {
     "name": "stdout",
     "output_type": "stream",
     "text": [
      "a _ _ _ c l _\n"
     ]
    },
    {
     "name": "stdin",
     "output_type": "stream",
     "text": [
      "Guess a letter! u\n"
     ]
    },
    {
     "name": "stdout",
     "output_type": "stream",
     "text": [
      "You lost one life, there are(is) 6 left\n"
     ]
    },
    {
     "name": "stdin",
     "output_type": "stream",
     "text": [
      "Guess a letter! e\n"
     ]
    },
    {
     "name": "stdout",
     "output_type": "stream",
     "text": [
      "a _ _ _ c l e\n"
     ]
    },
    {
     "name": "stdin",
     "output_type": "stream",
     "text": [
      "Guess a letter! n\n"
     ]
    },
    {
     "name": "stdout",
     "output_type": "stream",
     "text": [
      "You lost one life, there are(is) 5 left\n"
     ]
    },
    {
     "name": "stdin",
     "output_type": "stream",
     "text": [
      "Guess a letter! k\n"
     ]
    },
    {
     "name": "stdout",
     "output_type": "stream",
     "text": [
      "You lost one life, there are(is) 4 left\n"
     ]
    },
    {
     "name": "stdin",
     "output_type": "stream",
     "text": [
      "Guess a letter! s\n"
     ]
    },
    {
     "name": "stdout",
     "output_type": "stream",
     "text": [
      "You lost one life, there are(is) 3 left\n"
     ]
    },
    {
     "name": "stdin",
     "output_type": "stream",
     "text": [
      "Guess a letter! e\n"
     ]
    },
    {
     "name": "stdout",
     "output_type": "stream",
     "text": [
      "a _ _ _ c l e\n"
     ]
    },
    {
     "name": "stdin",
     "output_type": "stream",
     "text": [
      "Guess a letter! r\n"
     ]
    },
    {
     "name": "stdout",
     "output_type": "stream",
     "text": [
      "a r _ _ c l e\n"
     ]
    },
    {
     "name": "stdin",
     "output_type": "stream",
     "text": [
      "Guess a letter! t\n"
     ]
    },
    {
     "name": "stdout",
     "output_type": "stream",
     "text": [
      "a r t _ c l e\n"
     ]
    },
    {
     "name": "stdin",
     "output_type": "stream",
     "text": [
      "Guess a letter! i\n"
     ]
    },
    {
     "name": "stdout",
     "output_type": "stream",
     "text": [
      "a r t i c l e\n",
      "Congrats, you win!\n"
     ]
    }
   ],
   "source": [
    "hangman()"
   ]
  },
  {
   "cell_type": "code",
   "execution_count": null,
   "metadata": {},
   "outputs": [],
   "source": []
  }
 ],
 "metadata": {
  "kernelspec": {
   "display_name": "Python 3",
   "language": "python",
   "name": "python3"
  },
  "language_info": {
   "codemirror_mode": {
    "name": "ipython",
    "version": 3
   },
   "file_extension": ".py",
   "mimetype": "text/x-python",
   "name": "python",
   "nbconvert_exporter": "python",
   "pygments_lexer": "ipython3",
   "version": "3.8.5"
  }
 },
 "nbformat": 4,
 "nbformat_minor": 5
}
