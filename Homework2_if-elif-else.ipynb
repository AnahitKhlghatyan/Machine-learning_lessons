{
 "cells": [
  {
   "cell_type": "markdown",
   "metadata": {},
   "source": [
    "IF, ELIF, ELSE"
   ]
  },
  {
   "cell_type": "code",
   "execution_count": 1,
   "metadata": {},
   "outputs": [],
   "source": [
    "# 1. Enter your name, then find the sum of the ASCII values of the first and the last letter in your name. If\n",
    "# that number is larger than 100, print \"I've got a great name!\", and \"I've got a fancy name!\" otherwise.\n",
    "# Ներմուծեք ձեր անունը և գտեք անվան առաջին և վերջին տառերի ASCII արժեքների գումարը։ Եթե թիվը մեծ է 100-ից, տպել\n",
    "# \"I've got a great name!\", իսկ հակառակ դեպքում՝ \"I've got a fancy name!\"։"
   ]
  },
  {
   "cell_type": "code",
   "execution_count": 1,
   "metadata": {},
   "outputs": [
    {
     "name": "stdin",
     "output_type": "stream",
     "text": [
      "Enter your name: Anahit Khlghatyan\n"
     ]
    },
    {
     "name": "stdout",
     "output_type": "stream",
     "text": [
      "I've got a great name!\n"
     ]
    }
   ],
   "source": [
    "name = input('Enter your name:')\n",
    "\n",
    "if ord(name[0])+ord(name[-1]) > 100:\n",
    "    print(\"I've got a great name!\")\n",
    "else:\n",
    "    print(\"I'v got a fancy name!\")"
   ]
  },
  {
   "cell_type": "code",
   "execution_count": 11,
   "metadata": {},
   "outputs": [],
   "source": [
    "# 2. Ask the user for a movie title. If the title starts with a capital letter, print \"Great title!\", otherwise print\n",
    "# \"Titles start with capital letters...\". If the input starts with a special character [!, @, #, $, %, ^, &], print \"I\n",
    "# doubt that this is a title.\".\n",
    "# Պահանջել ներմուծել ֆիլմի վերնագիր։ Եթե վերնագիրը սկսվում է մեծատառով, տպել \"Great title!\", հակառակ դեպքում տպել\n",
    "# \"Titles start with capital letters...\"։ Եթե ներմուծվածը սկսվում է [!, @, #, $, %, ^, &] նշաններով, տպել \"I doubt that\n",
    "# this is a title.\"․"
   ]
  },
  {
   "cell_type": "code",
   "execution_count": 2,
   "metadata": {},
   "outputs": [
    {
     "name": "stdin",
     "output_type": "stream",
     "text": [
      "Enter the film name: %fimname\n"
     ]
    },
    {
     "name": "stdout",
     "output_type": "stream",
     "text": [
      "I doubt that this is a title.\n"
     ]
    }
   ],
   "source": [
    "film_name = input('Enter the film name:')\n",
    "\n",
    "if film_name[0] in'!@#$%^&':\n",
    "    print('I doubt that this is a title.')\n",
    "elif film_name[0].isupper():\n",
    "    print('Great title!')\n",
    "else:\n",
    "    print('Titles start with capital letters...')"
   ]
  },
  {
   "cell_type": "code",
   "execution_count": 28,
   "metadata": {},
   "outputs": [],
   "source": [
    "# 3. Ask the user to input his/her age. If the user is older than 17, than tell them they're eligible to vote. If they\n",
    "# are younger than 18, tell them how many years do they have to wait.\n",
    "# Հարցրեք օգտատիրոջ տարիքը։ Եթե նա 17 տարեկանից մեծ է, նրան տեղյակ պահեք, որ կարող է քվեարկել։ Հակառակ դեպքում ասեք, թե\n",
    "# քանի տարուց նա կկարողանա դա անել։"
   ]
  },
  {
   "cell_type": "code",
   "execution_count": 31,
   "metadata": {},
   "outputs": [
    {
     "name": "stdin",
     "output_type": "stream",
     "text": [
      "Input your age: 15\n"
     ]
    },
    {
     "name": "stdout",
     "output_type": "stream",
     "text": [
      "You have to wait 3 year(s)\n"
     ]
    }
   ],
   "source": [
    "age = int(input('Input your age:'))\n",
    "\n",
    "if age > 17:\n",
    "    print('You are eligible to vote')\n",
    "else:\n",
    "    print('You have to wait {} year(s)'.format(18-age))"
   ]
  },
  {
   "cell_type": "code",
   "execution_count": 32,
   "metadata": {},
   "outputs": [],
   "source": [
    "# 4. Write a program that will tell us whether a given year is a leap year or not.\n",
    "# Գրել ծրագիր, որը կտեղեկացնի, թե տրված տարին նահանջ է, թե ոչ։"
   ]
  },
  {
   "cell_type": "code",
   "execution_count": 3,
   "metadata": {},
   "outputs": [
    {
     "name": "stdin",
     "output_type": "stream",
     "text": [
      "Input the year: 2020\n"
     ]
    },
    {
     "name": "stdout",
     "output_type": "stream",
     "text": [
      "2020 is a leap year\n"
     ]
    }
   ],
   "source": [
    "year = int(input('Input the year:'))\n",
    "\n",
    "if year % 4 == 0:\n",
    "    if year % 100 == 0:\n",
    "        if year % 400 == 0:\n",
    "            print(f'{year} is a leap year')\n",
    "        else:\n",
    "            print(f'{year} is not a leap year')  \n",
    "    else:\n",
    "        print(f'{year} is a leap year')\n",
    "else:\n",
    "    print(f'{year} is not a leap year')"
   ]
  },
  {
   "cell_type": "code",
   "execution_count": 40,
   "metadata": {},
   "outputs": [],
   "source": [
    "# 5. Using 'random' module, generate a random number between -1000 and 1000. If the number is positive, print positive.\n",
    "# If it's negative, print negative along with the absolute value of the number.\n",
    "# Օգտագործելով random գրադարանը, գեներացնել [-1000,1000]-ը տիրույթում պատահական թիվ։ Եթե թիվը դրական է, տպել positive.\n",
    "# Հակառակ դեպքում տպել negative և այդ թվի բացարձակ արժեքը։"
   ]
  },
  {
   "cell_type": "code",
   "execution_count": 4,
   "metadata": {},
   "outputs": [
    {
     "name": "stdout",
     "output_type": "stream",
     "text": [
      "Negative: 147\n"
     ]
    }
   ],
   "source": [
    "import random\n",
    "n = random.randint(-1000,1001)\n",
    "\n",
    "if n > 0:\n",
    "    print('Positive')\n",
    "elif n == 0:\n",
    "    print(0)\n",
    "else:\n",
    "    print('Negative:', abs(n))"
   ]
  },
  {
   "cell_type": "code",
   "execution_count": null,
   "metadata": {},
   "outputs": [],
   "source": [
    "# 6. Write a Python program to get a string made of the first 2 and the last 2 chars from a given a string. If the\n",
    "# string length is less than 2, return instead of the empty string.\n",
    "# Գրել ծրագիր, որը կվերադարձնի նոր սթրինգ տրված սթրինգի առաջին և վերջին երկու տառերը պարունակող։ Եթե սթրինգի\n",
    "# երկարությունը երկուսից փոքր է, վերադարձնել օրիգինալ սթրինգը։"
   ]
  },
  {
   "cell_type": "code",
   "execution_count": 5,
   "metadata": {},
   "outputs": [
    {
     "name": "stdin",
     "output_type": "stream",
     "text": [
      "Input string: Anahit\n"
     ]
    },
    {
     "name": "stdout",
     "output_type": "stream",
     "text": [
      "Anit\n"
     ]
    }
   ],
   "source": [
    "string = input('Input string:')\n",
    "\n",
    "str_new = string[:2]+string[-2:]\n",
    "if len(string) > 2:\n",
    "    print(str_new)\n",
    "else:\n",
    "    print(string)"
   ]
  },
  {
   "cell_type": "markdown",
   "metadata": {},
   "source": [
    "LOOPS"
   ]
  },
  {
   "cell_type": "code",
   "execution_count": null,
   "metadata": {},
   "outputs": [],
   "source": [
    "# 1. Create a 3x3 matrix that will contain the squares of the numbers from 1-9 using a nested loop.\n",
    "# Օգտագործելով ցիկլեր, ստեղծել 3x3 մատրից, որը կպարունակի 1-9 թվերի քառակուսիները։"
   ]
  },
  {
   "cell_type": "code",
   "execution_count": 22,
   "metadata": {},
   "outputs": [
    {
     "name": "stdout",
     "output_type": "stream",
     "text": [
      "[[1, 4, 9], [16, 25, 36], [49, 64, 81]]\n"
     ]
    }
   ],
   "source": [
    "lst = []\n",
    "k = 1\n",
    "for i in range(3):\n",
    "    lst.append([])\n",
    "    for _ in range(3):\n",
    "        lst[i].append(k**2)\n",
    "        k+=1\n",
    "print(lst)"
   ]
  },
  {
   "cell_type": "code",
   "execution_count": 107,
   "metadata": {},
   "outputs": [],
   "source": [
    "# 2. Count the number of 'b's (and 'B's) in the given string. DO NOT use the count() method.\n",
    "# Հաշվել տրված սթրինգում 'b'-երի քանակը։ Չօգտագործել count() մեթոդը։"
   ]
  },
  {
   "cell_type": "code",
   "execution_count": 29,
   "metadata": {},
   "outputs": [
    {
     "name": "stdin",
     "output_type": "stream",
     "text": [
      "Input string: abABab\n"
     ]
    },
    {
     "name": "stdout",
     "output_type": "stream",
     "text": [
      "3\n"
     ]
    }
   ],
   "source": [
    "string = input('Input string:')\n",
    "\n",
    "lst = list(string)\n",
    "count = 0\n",
    "for i in lst:\n",
    "    if i.lower() == 'b':\n",
    "        count+=1\n",
    "print(count)"
   ]
  },
  {
   "cell_type": "code",
   "execution_count": 114,
   "metadata": {},
   "outputs": [],
   "source": [
    "# 3. Write a program that will print the factorial of n.\n",
    "# Գրել ծրագիր, որը կտպի n թվի ֆակտորիալը։"
   ]
  },
  {
   "cell_type": "code",
   "execution_count": 27,
   "metadata": {},
   "outputs": [
    {
     "name": "stdin",
     "output_type": "stream",
     "text": [
      "Input the number: 5\n"
     ]
    },
    {
     "name": "stdout",
     "output_type": "stream",
     "text": [
      "120\n"
     ]
    }
   ],
   "source": [
    "n = int(input('Input the number:'))\n",
    "factorial = 1\n",
    "for i in range(2,n+1):\n",
    "    factorial*=i\n",
    "print(factorial)"
   ]
  },
  {
   "cell_type": "code",
   "execution_count": 121,
   "metadata": {},
   "outputs": [],
   "source": [
    "# 4. Write a program to calculate the length of a string. DO NOT use the len() function.\n",
    "# Գրել ծրագիր, որն առանց len() ֆունկցիայի կիրառման կվերադարձնի սթրինգի երկարությունը։"
   ]
  },
  {
   "cell_type": "code",
   "execution_count": 28,
   "metadata": {},
   "outputs": [
    {
     "name": "stdin",
     "output_type": "stream",
     "text": [
      "Input the string: String\n"
     ]
    },
    {
     "name": "stdout",
     "output_type": "stream",
     "text": [
      "6\n"
     ]
    }
   ],
   "source": [
    "string = input('Input the string:')\n",
    "\n",
    "lst = list(string)\n",
    "count = 0\n",
    "for _ in lst:\n",
    "    count+=1\n",
    "print(count)"
   ]
  },
  {
   "cell_type": "code",
   "execution_count": 41,
   "metadata": {},
   "outputs": [],
   "source": [
    "# 5․ Write a program, that will return a new string containing only those characters in the original string that have\n",
    "# prime indices.\n",
    "# Վերադարձնել նոր սթրինգ, որը տրված սթրինգի միայն այն տարրերը կպարունակի, որոնց ինդեքսները պարզ թվեր են։\n",
    "\n",
    "poem = \"\"\"All that is gold does not glitter,\n",
    "Not all those who wander are lost;\n",
    "The old that is strong does not wither,\n",
    "Deep roots are not reached by the frost.\n",
    "\"\"\""
   ]
  },
  {
   "cell_type": "code",
   "execution_count": 51,
   "metadata": {},
   "outputs": [
    {
     "name": "stdout",
     "output_type": "stream",
     "text": [
      "l ht odeotetltew rth hio  ir\n",
      "ptab .\n"
     ]
    }
   ],
   "source": [
    "result = ''\n",
    "\n",
    "for i, character in enumerate(poem):\n",
    "    if i < 2:\n",
    "        continue\n",
    "    for j in range(2,i//2+1):\n",
    "        if i % j == 0:\n",
    "            break\n",
    "    else:\n",
    "        result += character\n",
    "print(result)"
   ]
  },
  {
   "cell_type": "code",
   "execution_count": null,
   "metadata": {},
   "outputs": [],
   "source": []
  }
 ],
 "metadata": {
  "kernelspec": {
   "display_name": "Python 3",
   "language": "python",
   "name": "python3"
  },
  "language_info": {
   "codemirror_mode": {
    "name": "ipython",
    "version": 3
   },
   "file_extension": ".py",
   "mimetype": "text/x-python",
   "name": "python",
   "nbconvert_exporter": "python",
   "pygments_lexer": "ipython3",
   "version": "3.8.5"
  }
 },
 "nbformat": 4,
 "nbformat_minor": 4
}
