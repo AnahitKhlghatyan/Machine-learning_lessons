{
 "cells": [
  {
   "cell_type": "markdown",
   "id": "840cc3e5-eb71-4afc-8f30-9f4a7f313f5d",
   "metadata": {},
   "source": [
    "# Gaussian Process Homework"
   ]
  },
  {
   "cell_type": "markdown",
   "id": "8bfbce76-dcda-4cca-934e-18d3c95ed19e",
   "metadata": {},
   "source": [
    "## Loading data"
   ]
  },
  {
   "cell_type": "code",
   "execution_count": 8,
   "id": "9a0709b5-6fb6-4e83-bdfb-b3a132771e4b",
   "metadata": {},
   "outputs": [],
   "source": [
    "import pickle\n",
    "import numpy as np\n",
    "with open('x_y_data.pickle', 'rb') as pickle_file:\n",
    "    x, y = pickle.load(pickle_file)"
   ]
  },
  {
   "cell_type": "code",
   "execution_count": 9,
   "id": "1acffbf4-4af5-4325-8a6b-af989d547d41",
   "metadata": {},
   "outputs": [
    {
     "data": {
      "text/plain": [
       "((40, 1), (40,))"
      ]
     },
     "execution_count": 9,
     "metadata": {},
     "output_type": "execute_result"
    }
   ],
   "source": [
    "x.shape, y.shape"
   ]
  },
  {
   "cell_type": "code",
   "execution_count": 7,
   "id": "2b335f04-6311-4bd7-b58d-13516a12c5a7",
   "metadata": {},
   "outputs": [
    {
     "data": {
      "image/png": "[encoded data removed]",
      "text/plain": [
       "<Figure size 432x288 with 1 Axes>"
      ]
     },
     "metadata": {
      "needs_background": "light"
     },
     "output_type": "display_data"
    }
   ],
   "source": [
    "import matplotlib.pyplot as plt\n",
    "plt.scatter(x,y)\n",
    "plt.show()"
   ]
  },
  {
   "cell_type": "markdown",
   "id": "b4dfd63a-27a9-465f-a671-f4a4456189d1",
   "metadata": {},
   "source": [
    "### Task1: Use Gaussian Process to find a good function that passes exatcly through the points (x, y)"
   ]
  },
  {
   "cell_type": "code",
   "execution_count": null,
   "id": "ad97b6ef-9145-4876-a300-9cdb0461d694",
   "metadata": {},
   "outputs": [],
   "source": []
  },
  {
   "cell_type": "markdown",
   "id": "3f918465-92db-448a-8a37-948179ba34ae",
   "metadata": {},
   "source": [
    "### Task2: Plot the posterior mean function and a sample function from the posterior distribution"
   ]
  },
  {
   "cell_type": "code",
   "execution_count": null,
   "id": "93aa25df-97a9-483b-a7e3-aef9200518f9",
   "metadata": {},
   "outputs": [],
   "source": []
  }
 ],
 "metadata": {
  "kernelspec": {
   "display_name": "Python 3 (ipykernel)",
   "language": "python",
   "name": "python3"
  },
  "language_info": {
   "codemirror_mode": {
    "name": "ipython",
    "version": 3
   },
   "file_extension": ".py",
   "mimetype": "text/x-python",
   "name": "python",
   "nbconvert_exporter": "python",
   "pygments_lexer": "ipython3",
   "version": "3.11.5"
  }
 },
 "nbformat": 4,
 "nbformat_minor": 5
}
